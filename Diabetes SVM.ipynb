{
 "cells": [
  {
   "cell_type": "markdown",
   "metadata": {},
   "source": [
    "# Diabetes Classification"
   ]
  },
  {
   "cell_type": "markdown",
   "metadata": {},
   "source": [
    "##### Objective "
   ]
  },
  {
   "cell_type": "markdown",
   "metadata": {},
   "source": [
    "1. We will use the cleaned data from Data Cleaning.ipynb to carry forward with SVM Analysis.\n",
    "2. Column variables with high amounts of NaNs, and higher correlations with other column variables, will be dropped from the data frame. (e.g. age_level, insu, mass).\n",
    "3. Two different kernels will be used (RBF & Polynomial). The results will be presented with and without min max scaling, as well as gridsearch optimization. Moreover the polynomial kernel will be ran in both 2nd and 3rd degree. \n",
    "4. Confusion matrix outputs will yield essential data on: accuracy, misclassification, true positive rate (recall), true negative rate, false positive rate, false negative rate, and precision.\n",
    "5. After all results are collected one may deduce which model best classifies diabetic patients."
   ]
  },
  {
   "cell_type": "markdown",
   "metadata": {},
   "source": [
    "##### Libraries"
   ]
  },
  {
   "cell_type": "code",
   "execution_count": 1,
   "metadata": {},
   "outputs": [],
   "source": [
    "import numpy as np\n",
    "import pandas as pd\n",
    "import matplotlib as mpl\n",
    "import matplotlib.pyplot as plt\n",
    "import seaborn as sns\n",
    "from pandas.api.types import CategoricalDtype\n",
    "\n",
    "from sklearn.preprocessing import Imputer, MinMaxScaler\n",
    "from sklearn.svm import SVC\n",
    "from sklearn.metrics import confusion_matrix, accuracy_score, classification_report, roc_curve, auc\n",
    "from sklearn.model_selection import train_test_split, GridSearchCV, cross_val_score\n"
   ]
  },
  {
   "cell_type": "markdown",
   "metadata": {},
   "source": [
    "##### Data Cleaning "
   ]
  },
  {
   "cell_type": "code",
   "execution_count": 2,
   "metadata": {},
   "outputs": [],
   "source": [
    "data = pd.read_csv('diabetes_explore2.csv')"
   ]
  },
  {
   "cell_type": "code",
   "execution_count": 3,
   "metadata": {},
   "outputs": [],
   "source": [
    "clean = data.copy(deep=True)"
   ]
  },
  {
   "cell_type": "code",
   "execution_count": 4,
   "metadata": {},
   "outputs": [],
   "source": [
    "clean['plas'].replace(148,np.NAN,inplace=True)\n",
    "clean.head()\n",
    "\n",
    "clean['insu'].replace(0, np.NaN,inplace=True)\n",
    "clean['insu'].replace(846, np.NaN,inplace=True)\n",
    "clean['pres'].replace(0, np.NaN,inplace=True)\n",
    "clean['skin'].replace(0, np.NaN,inplace=True)\n",
    "clean['mass'].replace(0, np.NaN,inplace=True)\n",
    "clean['plas'].replace(0, np.NaN,inplace=True)\n",
    "clean['plas'].replace(199, np.NaN,inplace=True)"
   ]
  },
  {
   "cell_type": "code",
   "execution_count": 5,
   "metadata": {},
   "outputs": [
    {
     "data": {
      "text/plain": [
       "preg           0\n",
       "plas          10\n",
       "pres          35\n",
       "skin         227\n",
       "insu         375\n",
       "mass          11\n",
       "pedi           0\n",
       "age            0\n",
       "class          0\n",
       "age_level      0\n",
       "dtype: int64"
      ]
     },
     "execution_count": 5,
     "metadata": {},
     "output_type": "execute_result"
    }
   ],
   "source": [
    "clean.isna().sum()"
   ]
  },
  {
   "cell_type": "code",
   "execution_count": 6,
   "metadata": {
    "scrolled": true
   },
   "outputs": [
    {
     "data": {
      "text/plain": [
       "preg         768\n",
       "plas         758\n",
       "pres         733\n",
       "skin         541\n",
       "insu         393\n",
       "mass         757\n",
       "pedi         768\n",
       "age          768\n",
       "class        768\n",
       "age_level    768\n",
       "dtype: int64"
      ]
     },
     "execution_count": 6,
     "metadata": {},
     "output_type": "execute_result"
    }
   ],
   "source": [
    "clean.count()"
   ]
  },
  {
   "cell_type": "markdown",
   "metadata": {},
   "source": [
    "768 patients to observe"
   ]
  },
  {
   "cell_type": "code",
   "execution_count": 7,
   "metadata": {},
   "outputs": [
    {
     "data": {
      "text/plain": [
       "preg      0\n",
       "plas     10\n",
       "pres     35\n",
       "mass     11\n",
       "pedi      0\n",
       "age       0\n",
       "class     0\n",
       "dtype: int64"
      ]
     },
     "execution_count": 7,
     "metadata": {},
     "output_type": "execute_result"
    }
   ],
   "source": [
    "clean = clean.drop(['insu'], axis = 1)\n",
    "clean = clean.drop(['skin'], axis = 1)\n",
    "clean = clean.drop(['age_level'], axis = 1)\n",
    "clean.head(20)\n",
    "clean.isna().sum()"
   ]
  },
  {
   "cell_type": "markdown",
   "metadata": {},
   "source": [
    "Remove column variables insu and skin due to high amount of NaNs and association with mass and plasma. Impute remaining column variables with median value to fill NaNs that are do not exceed a count greater than 50. Given measures will only alter ~6.5% of the sample with native median values. "
   ]
  },
  {
   "cell_type": "markdown",
   "metadata": {},
   "source": [
    "### RBF Model Preparation"
   ]
  },
  {
   "cell_type": "markdown",
   "metadata": {},
   "source": [
    "##### RBF Kernel Test Train Split"
   ]
  },
  {
   "cell_type": "code",
   "execution_count": 8,
   "metadata": {},
   "outputs": [],
   "source": [
    "X = clean.drop('class', axis=1)\n",
    "y = clean['class']\n",
    "\n",
    "X_train_rbf, X_test_rbf, y_train_rbf, y_test_rbf = train_test_split(X, y, test_size = 0.30)"
   ]
  },
  {
   "cell_type": "markdown",
   "metadata": {},
   "source": [
    "We construct the basis of the classifier test groups by separating class values through X and y variables.\n",
    "train_test_split will use X and y to create train and test sets with a 70% training and 30% testing ratio"
   ]
  },
  {
   "cell_type": "markdown",
   "metadata": {},
   "source": [
    "##### RBF Kernel Imputation"
   ]
  },
  {
   "cell_type": "markdown",
   "metadata": {},
   "source": [
    "Given that there is a wide range of values the median will be prioritized for NaN replacement strategy over the mean."
   ]
  },
  {
   "cell_type": "code",
   "execution_count": 9,
   "metadata": {
    "scrolled": true
   },
   "outputs": [
    {
     "name": "stderr",
     "output_type": "stream",
     "text": [
      "/Users/patrickboada/anaconda/lib/python3.6/site-packages/pandas/core/generic.py:6288: SettingWithCopyWarning: \n",
      "A value is trying to be set on a copy of a slice from a DataFrame\n",
      "\n",
      "See the caveats in the documentation: http://pandas.pydata.org/pandas-docs/stable/user_guide/indexing.html#returning-a-view-versus-a-copy\n",
      "  self._update_inplace(new_data)\n"
     ]
    }
   ],
   "source": [
    "X_train_rbf['plas'].fillna(X_train_rbf.plas.median(),inplace=True)\n",
    "X_test_rbf['plas'].fillna(X_test_rbf.plas.median(),inplace=True)\n",
    "\n",
    "X_train_rbf['pres'].fillna(X_train_rbf.plas.median(),inplace=True)\n",
    "X_test_rbf['pres'].fillna(X_test_rbf.plas.median(),inplace=True)\n",
    "\n",
    "X_train_rbf['mass'].fillna(X_train_rbf.plas.median(),inplace=True)\n",
    "X_test_rbf['mass'].fillna(X_test_rbf.plas.median(),inplace=True)"
   ]
  },
  {
   "cell_type": "code",
   "execution_count": 10,
   "metadata": {},
   "outputs": [
    {
     "data": {
      "text/plain": [
       "0"
      ]
     },
     "execution_count": 10,
     "metadata": {},
     "output_type": "execute_result"
    }
   ],
   "source": [
    "X_train_rbf.isna().sum()\n",
    "X_test_rbf.isna().sum()\n",
    "\n",
    "y_test_rbf.isna().sum()\n",
    "y_train_rbf.isna().sum()"
   ]
  },
  {
   "cell_type": "code",
   "execution_count": 11,
   "metadata": {},
   "outputs": [
    {
     "name": "stdout",
     "output_type": "stream",
     "text": [
      "<class 'pandas.core.frame.DataFrame'>\n",
      "Int64Index: 537 entries, 104 to 269\n",
      "Data columns (total 6 columns):\n",
      "preg    537 non-null int64\n",
      "plas    537 non-null float64\n",
      "pres    537 non-null float64\n",
      "mass    537 non-null float64\n",
      "pedi    537 non-null float64\n",
      "age     537 non-null int64\n",
      "dtypes: float64(4), int64(2)\n",
      "memory usage: 29.4 KB\n"
     ]
    }
   ],
   "source": [
    "X_train_rbf.info()"
   ]
  },
  {
   "cell_type": "code",
   "execution_count": 12,
   "metadata": {},
   "outputs": [
    {
     "name": "stdout",
     "output_type": "stream",
     "text": [
      "<class 'pandas.core.frame.DataFrame'>\n",
      "Int64Index: 231 entries, 598 to 351\n",
      "Data columns (total 6 columns):\n",
      "preg    231 non-null int64\n",
      "plas    231 non-null float64\n",
      "pres    231 non-null float64\n",
      "mass    231 non-null float64\n",
      "pedi    231 non-null float64\n",
      "age     231 non-null int64\n",
      "dtypes: float64(4), int64(2)\n",
      "memory usage: 12.6 KB\n"
     ]
    }
   ],
   "source": [
    "X_test_rbf.info()"
   ]
  },
  {
   "cell_type": "markdown",
   "metadata": {},
   "source": [
    "Accept mixed datatype dataframe, converting all columnn variables to identical datatype  may cause loss of true values by truncating float64 values to int64 state."
   ]
  },
  {
   "cell_type": "markdown",
   "metadata": {},
   "source": [
    "##### RBF Kernel SVC"
   ]
  },
  {
   "cell_type": "code",
   "execution_count": 13,
   "metadata": {
    "scrolled": true
   },
   "outputs": [
    {
     "name": "stdout",
     "output_type": "stream",
     "text": [
      "SVC(C=1.0, cache_size=10000, class_weight=None, coef0=0.0,\n",
      "    decision_function_shape='ovr', degree=3, gamma='scale', kernel='rbf',\n",
      "    max_iter=-1, probability=True, random_state=None, shrinking=True, tol=0.001,\n",
      "    verbose=False)\n",
      "RBF Model Prediction accuracy:  0.7878787878787878\n",
      "[[142  15]\n",
      " [ 34  40]]\n"
     ]
    }
   ],
   "source": [
    "svc_rbf = SVC(kernel='rbf', gamma = 'scale', cache_size=10000, probability=True) \n",
    "print(svc_rbf)\n",
    "clf_rbf = svc_rbf.fit(X_train_rbf,y_train_rbf)\n",
    "y_pred_rbf = svc_rbf.predict(X_test_rbf)\n",
    "pTot_rbf = accuracy_score(y_test_rbf, y_pred_rbf)\n",
    "print(\"RBF Model Prediction accuracy: \", pTot_rbf)\n",
    "print(confusion_matrix(y_test_rbf, y_pred_rbf))"
   ]
  },
  {
   "cell_type": "markdown",
   "metadata": {},
   "source": [
    "The SVM ran a total of 231 predictions.\n",
    "\n",
    "The model predicted 0 class (nondiabetic) 176 times. \n",
    "Of the 176 times it predicted nondiabetic it was correct 142 times, and incorrect 34 times. This implies that we have 142 true negatives and 34 false negatives.  \n",
    "\n",
    "The model predicted 1 class (diabetic) 55 times.\n",
    "Of the 55 times it predicted diabetic it was correct 40 times\n",
    "and incorrect 15 times. This implies that we have 40 true positives and 15 false positives.\n",
    "\n",
    "                 Predicted Nondiabetic  Predicted Diabetic\n",
    "    Actual Nondiabetic            TN                FP\n",
    "    Actual Diabetic               FN                TP\n",
    "\n",
    "Accuracy:  79%,\n",
    "\n",
    "Precision: 73%,\n",
    "\n",
    "True Positive Rate: 54%,\n",
    "\n",
    "True Negative Rate: 81%,\n",
    "\n",
    "False Positive Rate: 10%,\n",
    "\n",
    "Misclassification: 21%"
   ]
  },
  {
   "cell_type": "markdown",
   "metadata": {},
   "source": [
    "##### Pickle RBF Kernel SVC"
   ]
  },
  {
   "cell_type": "code",
   "execution_count": 14,
   "metadata": {
    "scrolled": true
   },
   "outputs": [
    {
     "name": "stdout",
     "output_type": "stream",
     "text": [
      "SVC(C=1.0, cache_size=10000, class_weight=None, coef0=0.0,\n",
      "    decision_function_shape='ovr', degree=3, gamma='scale', kernel='rbf',\n",
      "    max_iter=-1, probability=True, random_state=None, shrinking=True, tol=0.001,\n",
      "    verbose=False)\n",
      "RBF Prediction accuracy:  0.7878787878787878\n",
      "[[142  15]\n",
      " [ 34  40]]\n"
     ]
    }
   ],
   "source": [
    "import pickle\n",
    "\n",
    "outfile_rbf= open('model_rbf.pkl','wb')\n",
    "pickle.dump(svc_rbf, outfile_rbf)\n",
    "outfile_rbf.close()\n",
    "\n",
    "\n",
    "infile_rbf = open('model_rbf.pkl', 'rb')\n",
    "svc2_rbf = pickle.load(infile_rbf)\n",
    "infile_rbf.close()\n",
    "\n",
    "\n",
    "print (svc2_rbf)\n",
    "y_pred_rbf = svc2_rbf.predict(X_test_rbf)\n",
    "pTot_rbf = accuracy_score(y_test_rbf, y_pred_rbf)\n",
    "print(\"RBF Prediction accuracy: \",pTot_rbf)\n",
    "print(confusion_matrix(y_test_rbf, y_pred_rbf))\n"
   ]
  },
  {
   "cell_type": "markdown",
   "metadata": {},
   "source": [
    "##### RBF Kernel SVC Confusion Matrix"
   ]
  },
  {
   "cell_type": "code",
   "execution_count": 15,
   "metadata": {},
   "outputs": [
    {
     "data": {
      "text/plain": [
       "array([[142,  15],\n",
       "       [ 34,  40]])"
      ]
     },
     "execution_count": 15,
     "metadata": {},
     "output_type": "execute_result"
    }
   ],
   "source": [
    "cm_rbf = confusion_matrix(y_test_rbf, y_pred_rbf)\n",
    "cm_rbf"
   ]
  },
  {
   "cell_type": "markdown",
   "metadata": {},
   "source": [
    "##### RBF Kernel SVC Classification Report"
   ]
  },
  {
   "cell_type": "code",
   "execution_count": 16,
   "metadata": {},
   "outputs": [
    {
     "name": "stdout",
     "output_type": "stream",
     "text": [
      "              precision    recall  f1-score   support\n",
      "\n",
      "           0       0.81      0.90      0.85       157\n",
      "           1       0.73      0.54      0.62        74\n",
      "\n",
      "    accuracy                           0.79       231\n",
      "   macro avg       0.77      0.72      0.74       231\n",
      "weighted avg       0.78      0.79      0.78       231\n",
      "\n"
     ]
    }
   ],
   "source": [
    "report_rbf = classification_report(y_test_rbf, y_pred_rbf)\n",
    "print (report_rbf)"
   ]
  },
  {
   "cell_type": "markdown",
   "metadata": {},
   "source": [
    "##### RBF Kernel SVC Data Min Max Scaling"
   ]
  },
  {
   "cell_type": "code",
   "execution_count": 17,
   "metadata": {},
   "outputs": [
    {
     "name": "stdout",
     "output_type": "stream",
     "text": [
      "     preg   plas   pres   mass   pedi  age\n",
      "598     1  173.0   74.0   36.8  0.088   38\n",
      "727     0  141.0   84.0   32.4  0.433   22\n",
      "567     6   92.0   62.0   32.0  0.085   46\n",
      "376     0   98.0   82.0   25.2  0.299   22\n",
      "316     3   99.0   80.0   19.3  0.284   30\n",
      "..    ...    ...    ...    ...    ...  ...\n",
      "81      2   74.0  115.0  115.0  0.102   22\n",
      "433     2  139.0   75.0   25.6  0.167   29\n",
      "415     3  173.0   84.0   35.7  0.258   22\n",
      "168     4  110.0   66.0   31.9  0.471   29\n",
      "351     4  137.0   84.0   31.2  0.252   30\n",
      "\n",
      "[231 rows x 6 columns]\n"
     ]
    },
    {
     "data": {
      "text/plain": [
       "array([[6.66666667e-02, 8.37662338e-01, 5.37634409e-01, 1.88259109e-01,\n",
       "        1.71232877e-03, 2.83333333e-01],\n",
       "       [0.00000000e+00, 6.29870130e-01, 6.45161290e-01, 1.43724696e-01,\n",
       "        1.49400685e-01, 1.66666667e-02],\n",
       "       [4.00000000e-01, 3.11688312e-01, 4.08602151e-01, 1.39676113e-01,\n",
       "        4.28082192e-04, 4.16666667e-01],\n",
       "       ...,\n",
       "       [2.00000000e-01, 8.37662338e-01, 6.45161290e-01, 1.77125506e-01,\n",
       "        7.44863014e-02, 1.66666667e-02],\n",
       "       [2.66666667e-01, 4.28571429e-01, 4.51612903e-01, 1.38663968e-01,\n",
       "        1.65667808e-01, 1.33333333e-01],\n",
       "       [2.66666667e-01, 6.03896104e-01, 6.45161290e-01, 1.31578947e-01,\n",
       "        7.19178082e-02, 1.50000000e-01]])"
      ]
     },
     "execution_count": 17,
     "metadata": {},
     "output_type": "execute_result"
    }
   ],
   "source": [
    "print(X_test_rbf)\n",
    "min_max_scaler = MinMaxScaler()\n",
    "X_train_minmax_rbf = min_max_scaler.fit_transform(X_train_rbf)\n",
    "X_test_minmax_rbf = min_max_scaler.transform(X_test_rbf)\n",
    "X_test_minmax_rbf"
   ]
  },
  {
   "cell_type": "markdown",
   "metadata": {},
   "source": [
    "##### Min Max Scaled RBF Kernel SVC"
   ]
  },
  {
   "cell_type": "code",
   "execution_count": 18,
   "metadata": {},
   "outputs": [
    {
     "name": "stdout",
     "output_type": "stream",
     "text": [
      "SVC(C=1.0, cache_size=1000, class_weight='balanced', coef0=0.0,\n",
      "    decision_function_shape='ovr', degree=3, gamma='scale', kernel='rbf',\n",
      "    max_iter=-1, probability=True, random_state=None, shrinking=True, tol=0.001,\n",
      "    verbose=False)\n",
      "Min Max Scaling RBF Prediction accuracy:  0.7445887445887446\n"
     ]
    }
   ],
   "source": [
    "svc_rbfMMS = SVC(C = 1.0, kernel='rbf', class_weight= 'balanced', cache_size=1000, gamma = 'scale', probability=True)\n",
    "print(svc_rbfMMS)\n",
    "clf_rbfMMS = svc_rbfMMS.fit(X_train_minmax_rbf, y_train_rbf) # trains the classifier on the training set\n",
    "y_pred_minmax_rbf = svc_rbfMMS.predict(X_test_minmax_rbf) # tests the classifier on the test set\n",
    "pTot_rbfMMS = accuracy_score(y_test_rbf, y_pred_minmax_rbf)\n",
    "print (\"Min Max Scaling RBF Prediction accuracy: \",pTot_rbfMMS)"
   ]
  },
  {
   "cell_type": "markdown",
   "metadata": {},
   "source": [
    "\n",
    "##### Min Max Scaled RBF Kernel Confusion Matrix"
   ]
  },
  {
   "cell_type": "code",
   "execution_count": 19,
   "metadata": {
    "scrolled": false
   },
   "outputs": [
    {
     "name": "stdout",
     "output_type": "stream",
     "text": [
      "[[117  40]\n",
      " [ 19  55]]\n",
      "              precision    recall  f1-score   support\n",
      "\n",
      "           0       0.86      0.75      0.80       157\n",
      "           1       0.58      0.74      0.65        74\n",
      "\n",
      "    accuracy                           0.74       231\n",
      "   macro avg       0.72      0.74      0.72       231\n",
      "weighted avg       0.77      0.74      0.75       231\n",
      "\n"
     ]
    }
   ],
   "source": [
    "cm_rbfMMS = confusion_matrix(y_test_rbf, y_pred_minmax_rbf)\n",
    "print(cm_rbfMMS)\n",
    "report_rbfMMS = classification_report(y_test_rbf, y_pred_minmax_rbf)\n",
    "print (report_rbfMMS)"
   ]
  },
  {
   "cell_type": "markdown",
   "metadata": {},
   "source": [
    "##### Min Max Scaled RBF Kernel Classification Report "
   ]
  },
  {
   "cell_type": "markdown",
   "metadata": {},
   "source": [
    "The RBF kernel min max scaled SVM ran a total of 231 predictions.\n",
    "\n",
    "The model predicted 0 class (nondiabetic) 136 times. \n",
    "Of the 136 times it predicted nondiabetic it was correct 117 times, and incorrect 19 times. This implies that we have 117 true negatives and 19 false negatives.  \n",
    "\n",
    "The model predicted 1 class (diabetic) 95 times.\n",
    "Of the 95 times it predicted diabetic it was correct 55 times\n",
    "and incorrect 40 times. This implies that we have 55 true positives and 40 false positives.\n",
    "\n",
    "                 Predicted Nondiabetic  Predicted Diabetic\n",
    "    Actual Nondiabetic            TN                FP\n",
    "    Actual Diabetic               FN                TP\n",
    "\n",
    "\n",
    "Accuracy:  74%, \n",
    "\n",
    "Precision: 58%, \n",
    "\n",
    "True Positive Rate: 74%, \n",
    "\n",
    "True Negative Rate: 86%, \n",
    "\n",
    "False Positive Rate: 26%,\n",
    "\n",
    "Misclassification: 26%, \n",
    "\n",
    "\n",
    "After min max scaling we see a 5% decrease in accuracy, 15% decrease in precision, 20% increase in TP rate, 5% increase in TN rate, 16% increase in FP rate, and 5% increase in misclassification.\n",
    "\n",
    "\n"
   ]
  },
  {
   "cell_type": "markdown",
   "metadata": {},
   "source": [
    "##### Min Max Scaled RBF Kernel ROC Curve"
   ]
  },
  {
   "cell_type": "code",
   "execution_count": 20,
   "metadata": {},
   "outputs": [
    {
     "name": "stdout",
     "output_type": "stream",
     "text": [
      "thresholds [1.83471121 0.83471121 0.81552835 0.78787686 0.78099384 0.74541664\n",
      " 0.73670713 0.72833616 0.7273142  0.69732443 0.69389376 0.68564892\n",
      " 0.67524952 0.6691208  0.66394664 0.65674839 0.65669778 0.64988355\n",
      " 0.64934427 0.64776897 0.64333935 0.57118328 0.56828992 0.56015203\n",
      " 0.55189945 0.53261369 0.50590836 0.48117404 0.45297514 0.4510998\n",
      " 0.42944492 0.42406502 0.3807426  0.37217599 0.36621588 0.36453774\n",
      " 0.35830856 0.35812722 0.35725499 0.3549384  0.35226082 0.34226326\n",
      " 0.33511076 0.33462556 0.32815799 0.31156697 0.30435199 0.30202021\n",
      " 0.29876    0.29251284 0.28392469 0.27775864 0.27636528 0.27070208\n",
      " 0.24668507 0.24644844 0.19725276 0.19680538 0.19470115 0.1917377\n",
      " 0.18331069 0.18105983 0.16985355 0.168577   0.10540531 0.10295751\n",
      " 0.05408688 0.05388598 0.02695817]\n",
      "probas_ [[0.26613608 0.73386392]\n",
      " [0.66877818 0.33122182]\n",
      " [0.88459458 0.11540542]\n",
      " [0.93443115 0.06556885]\n",
      " [0.94053232 0.05946768]\n",
      " [0.96227083 0.03772917]\n",
      " [0.55638542 0.44361458]\n",
      " [0.54960632 0.45039368]\n",
      " [0.44338622 0.55661378]\n",
      " [0.92719556 0.07280444]\n",
      " [0.60973469 0.39026531]\n",
      " [0.32475048 0.67524952]\n",
      " [0.92207323 0.07792677]\n",
      " [0.9598261  0.0401739 ]\n",
      " [0.34330222 0.65669778]\n",
      " [0.9404954  0.0595046 ]\n",
      " [0.35666065 0.64333935]\n",
      " [0.6450616  0.3549384 ]\n",
      " [0.93181413 0.06818587]\n",
      " [0.54853468 0.45146532]\n",
      " [0.38696167 0.61303833]\n",
      " [0.63546226 0.36453774]\n",
      " [0.81079926 0.18920074]\n",
      " [0.59567626 0.40432374]\n",
      " [0.27904986 0.72095014]\n",
      " [0.54838907 0.45161093]\n",
      " [0.83014645 0.16985355]\n",
      " [0.23889145 0.76110855]\n",
      " [0.2875981  0.7124019 ]\n",
      " [0.45019806 0.54980194]\n",
      " [0.63142776 0.36857224]\n",
      " [0.72224136 0.27775864]\n",
      " [0.25262687 0.74737313]\n",
      " [0.77806361 0.22193639]\n",
      " [0.64169144 0.35830856]\n",
      " [0.88578065 0.11421935]\n",
      " [0.80053333 0.19946667]\n",
      " [0.44444179 0.55555821]\n",
      " [0.95388207 0.04611793]\n",
      " [0.22611264 0.77388736]\n",
      " [0.68843303 0.31156697]\n",
      " [0.51113138 0.48886862]\n",
      " [0.30267557 0.69732443]\n",
      " [0.67184201 0.32815799]\n",
      " [0.97304183 0.02695817]\n",
      " [0.20641984 0.79358016]\n",
      " [0.82246047 0.17753953]\n",
      " [0.26332638 0.73667362]\n",
      " [0.33605336 0.66394664]\n",
      " [0.55445281 0.44554719]\n",
      " [0.86620647 0.13379353]\n",
      " [0.18447165 0.81552835]\n",
      " [0.65898177 0.34101823]\n",
      " [0.43171008 0.56828992]\n",
      " [0.82910794 0.17089206]\n",
      " [0.63378412 0.36621588]\n",
      " [0.22460224 0.77539776]\n",
      " [0.81120443 0.18879557]\n",
      " [0.91855615 0.08144385]\n",
      " [0.92729815 0.07270185]\n",
      " [0.3528959  0.6471041 ]\n",
      " [0.2346786  0.7653214 ]\n",
      " [0.89704249 0.10295751]\n",
      " [0.42803449 0.57196551]\n",
      " [0.88789346 0.11210654]\n",
      " [0.96457786 0.03542214]\n",
      " [0.95013567 0.04986433]\n",
      " [0.66447476 0.33552524]\n",
      " [0.24405909 0.75594091]\n",
      " [0.94749633 0.05250367]\n",
      " [0.86010843 0.13989157]\n",
      " [0.54702486 0.45297514]\n",
      " [0.30255986 0.69744014]\n",
      " [0.64773918 0.35226082]\n",
      " [0.89809751 0.10190249]\n",
      " [0.64187278 0.35812722]\n",
      " [0.93953528 0.06046472]\n",
      " [0.89292166 0.10707834]\n",
      " [0.47281194 0.52718806]\n",
      " [0.64274501 0.35725499]\n",
      " [0.65108562 0.34891438]\n",
      " [0.31435108 0.68564892]\n",
      " [0.8629817  0.1370183 ]\n",
      " [0.91410618 0.08589382]\n",
      " [0.16528879 0.83471121]\n",
      " [0.71326554 0.28673446]\n",
      " [0.24456906 0.75543094]\n",
      " [0.70124    0.29876   ]\n",
      " [0.89326783 0.10673217]\n",
      " [0.60968172 0.39031828]\n",
      " [0.71600569 0.28399431]\n",
      " [0.950536   0.049464  ]\n",
      " [0.3308792  0.6691208 ]\n",
      " [0.91984222 0.08015778]\n",
      " [0.86970012 0.13029988]\n",
      " [0.92419919 0.07580081]\n",
      " [0.63769091 0.36230909]\n",
      " [0.89951566 0.10048434]\n",
      " [0.21212314 0.78787686]\n",
      " [0.69564801 0.30435199]\n",
      " [0.80426715 0.19573285]\n",
      " [0.42881672 0.57118328]\n",
      " [0.21900616 0.78099384]\n",
      " [0.74645667 0.25354333]\n",
      " [0.93274168 0.06725832]\n",
      " [0.51519833 0.48480167]\n",
      " [0.3912895  0.6087105 ]\n",
      " [0.8082623  0.1917377 ]\n",
      " [0.8932164  0.1067836 ]\n",
      " [0.78182204 0.21817796]\n",
      " [0.19843618 0.80156382]\n",
      " [0.5696188  0.4303812 ]\n",
      " [0.25458336 0.74541664]\n",
      " [0.831423   0.168577  ]\n",
      " [0.88251221 0.11748779]\n",
      " [0.89328745 0.10671255]\n",
      " [0.94611402 0.05388598]\n",
      " [0.90140083 0.09859917]\n",
      " [0.95690362 0.04309638]\n",
      " [0.72320653 0.27679347]\n",
      " [0.65773674 0.34226326]\n",
      " [0.30610624 0.69389376]\n",
      " [0.48378839 0.51621161]\n",
      " [0.84271786 0.15728214]\n",
      " [0.85761825 0.14238175]\n",
      " [0.93225959 0.06774041]\n",
      " [0.77110365 0.22889635]\n",
      " [0.23842916 0.76157084]\n",
      " [0.94141007 0.05858993]\n",
      " [0.27166384 0.72833616]\n",
      " [0.96792425 0.03207575]\n",
      " [0.77405572 0.22594428]\n",
      " [0.43984797 0.56015203]\n",
      " [0.94440191 0.05559809]\n",
      " [0.80274724 0.19725276]\n",
      " [0.86824777 0.13175223]\n",
      " [0.5489002  0.4510998 ]\n",
      " [0.82311916 0.17688084]\n",
      " [0.94687444 0.05312556]\n",
      " [0.92345596 0.07654404]\n",
      " [0.75759688 0.24240312]\n",
      " [0.51882596 0.48117404]\n",
      " [0.69797979 0.30202021]\n",
      " [0.22348523 0.77651477]\n",
      " [0.65372502 0.34627498]\n",
      " [0.77810959 0.22189041]\n",
      " [0.9596894  0.0403106 ]\n",
      " [0.92090792 0.07909208]\n",
      " [0.71607531 0.28392469]\n",
      " [0.36532579 0.63467421]\n",
      " [0.29153388 0.70846612]\n",
      " [0.91891513 0.08108487]\n",
      " [0.53158984 0.46841016]\n",
      " [0.74972397 0.25027603]\n",
      " [0.90663417 0.09336583]\n",
      " [0.85045617 0.14954383]\n",
      " [0.96068433 0.03931567]\n",
      " [0.20640643 0.79359357]\n",
      " [0.71221481 0.28778519]\n",
      " [0.66537444 0.33462556]\n",
      " [0.57593498 0.42406502]\n",
      " [0.24735118 0.75264882]\n",
      " [0.47714776 0.52285224]\n",
      " [0.94591312 0.05408688]\n",
      " [0.69317529 0.30682471]\n",
      " [0.34325161 0.65674839]\n",
      " [0.76923649 0.23076351]\n",
      " [0.35223103 0.64776897]\n",
      " [0.70859871 0.29140129]\n",
      " [0.62891678 0.37108322]\n",
      " [0.78276966 0.21723034]\n",
      " [0.95428895 0.04571105]\n",
      " [0.26329287 0.73670713]\n",
      " [0.91938628 0.08061372]\n",
      " [0.35065573 0.64934427]\n",
      " [0.34274469 0.65725531]\n",
      " [0.93196632 0.06803368]\n",
      " [0.85925013 0.14074987]\n",
      " [0.89317197 0.10682803]\n",
      " [0.35011645 0.64988355]\n",
      " [0.62782401 0.37217599]\n",
      " [0.68742659 0.31257341]\n",
      " [0.36549689 0.63450311]\n",
      " [0.91014989 0.08985011]\n",
      " [0.58073817 0.41926183]\n",
      " [0.70748716 0.29251284]\n",
      " [0.6087252  0.3912748 ]\n",
      " [0.2726858  0.7273142 ]\n",
      " [0.81668931 0.18331069]\n",
      " [0.46064514 0.53935486]\n",
      " [0.85157029 0.14842971]\n",
      " [0.66488924 0.33511076]\n",
      " [0.58884801 0.41115199]\n",
      " [0.2027961  0.7972039 ]\n",
      " [0.57055508 0.42944492]\n",
      " [0.35490501 0.64509499]\n",
      " [0.69410901 0.30589099]\n",
      " [0.89178836 0.10821164]\n",
      " [0.95886217 0.04113783]\n",
      " [0.80529885 0.19470115]\n",
      " [0.89459469 0.10540531]\n",
      " [0.80319462 0.19680538]\n",
      " [0.94988764 0.05011236]\n",
      " [0.4503852  0.5496148 ]\n",
      " [0.72363472 0.27636528]\n",
      " [0.6192574  0.3807426 ]\n",
      " [0.9033638  0.0966362 ]\n",
      " [0.32663733 0.67336267]\n",
      " [0.49409164 0.50590836]\n",
      " [0.81894017 0.18105983]\n",
      " [0.22712491 0.77287509]\n",
      " [0.94728056 0.05271944]\n",
      " [0.47314265 0.52685735]\n",
      " [0.95030083 0.04969917]\n",
      " [0.46738631 0.53261369]\n",
      " [0.72929792 0.27070208]\n",
      " [0.66644323 0.33355677]\n",
      " [0.7933965  0.2066035 ]\n",
      " [0.94441436 0.05558564]\n",
      " [0.8367614  0.1632386 ]\n",
      " [0.94353042 0.05646958]\n",
      " [0.39582274 0.60417726]\n",
      " [0.75355156 0.24644844]\n",
      " [0.44810055 0.55189945]\n",
      " [0.60631981 0.39368019]\n",
      " [0.9258714  0.0741286 ]\n",
      " [0.88196084 0.11803916]\n",
      " [0.75331493 0.24668507]\n",
      " [0.45576348 0.54423652]\n",
      " [0.82092953 0.17907047]\n",
      " [0.60865264 0.39134736]]\n",
      "AUC using predict_proba 0.8503184713375797\n"
     ]
    }
   ],
   "source": [
    "probas_rbfMMS = svc_rbfMMS.fit(X_train_minmax_rbf, y_train_rbf).predict_proba(X_test_minmax_rbf)\n",
    "fpr_rbfMMS, tpr_rbfMMS, thresholds_rbfMMS = roc_curve(y_test_rbf, probas_rbfMMS[:, 1])\n",
    "roc_auc_rbfMMS = auc(fpr_rbfMMS, tpr_rbfMMS)\n",
    "print (\"thresholds\", thresholds_rbfMMS)\n",
    "print (\"probas_\", probas_rbfMMS)\n",
    "print (\"AUC using predict_proba\", roc_auc_rbfMMS)"
   ]
  },
  {
   "cell_type": "markdown",
   "metadata": {},
   "source": [
    "AUC using predict_proba: 85%"
   ]
  },
  {
   "cell_type": "code",
   "execution_count": 21,
   "metadata": {},
   "outputs": [],
   "source": [
    "%matplotlib inline"
   ]
  },
  {
   "cell_type": "code",
   "execution_count": 22,
   "metadata": {},
   "outputs": [
    {
     "data": {
      "image/png": "[encoded data removed]",
      "text/plain": [
       "<Figure size 432x288 with 1 Axes>"
      ]
     },
     "metadata": {
      "needs_background": "light"
     },
     "output_type": "display_data"
    }
   ],
   "source": [
    "plt.figure()\n",
    "plt.plot(fpr_rbfMMS, tpr_rbfMMS, label='ROC curve (area = %0.2f)' % roc_auc_rbfMMS, lw=3, color =\"#0000ff\", marker='s',markerfacecolor=\"red\", markersize=2) \n",
    "plt.plot([0, 1], [0, 1], 'k--')\n",
    "\n",
    "# Set x and y ranges, labels, title and legend\n",
    "plt.xlim([-0.005, 1.0])  #x range basically from 0 to 1: start range a bit to left of min x value to see thick line better\n",
    "plt.ylim([0.0, 1.005])   #0 range basically from 0 to 1: extend range a bit above max y value to see thick line better\n",
    "plt.xlabel('False Positive Rate')\n",
    "plt.ylabel('True Positive Rate')\n",
    "plt.title('Receiver operating characteristic example')\n",
    "plt.legend(loc=\"lower right\")\n",
    "plt.show()"
   ]
  },
  {
   "cell_type": "code",
   "execution_count": 23,
   "metadata": {},
   "outputs": [
    {
     "name": "stdout",
     "output_type": "stream",
     "text": [
      "[0.01, 0.1, 1, 'auto', 10, 100]\n"
     ]
    },
    {
     "data": {
      "text/plain": [
       "{'gamma': [0.01, 0.1, 1, 'auto', 10, 100],\n",
       " 'C': array([1.e-02, 1.e-01, 1.e+00, 1.e+01, 1.e+02, 1.e+03])}"
      ]
     },
     "execution_count": 23,
     "metadata": {},
     "output_type": "execute_result"
    }
   ],
   "source": [
    "C_range_rbfMMS = 10.0 ** np.arange(-2, 4)\n",
    "gamma_range_rbfMMS = [.01, .1, 1, 'auto', 10, 100]\n",
    "print (gamma_range_rbfMMS)\n",
    "param_grid_rbfMMS = dict(gamma=gamma_range_rbfMMS, C=C_range_rbfMMS)\n",
    "param_grid_rbfMMS"
   ]
  },
  {
   "cell_type": "markdown",
   "metadata": {},
   "source": [
    "##### Min Max Scaled RBF Kernel Grid Search Parameter Fine Tuning"
   ]
  },
  {
   "cell_type": "code",
   "execution_count": 24,
   "metadata": {},
   "outputs": [
    {
     "name": "stdout",
     "output_type": "stream",
     "text": [
      "The best C and gamma for rbf is: 10.00000, 1.00000 \n"
     ]
    },
    {
     "data": {
      "text/plain": [
       "SVC(C=10.0, cache_size=1000, class_weight=None, coef0=0.0,\n",
       "    decision_function_shape='ovr', degree=3, gamma=1, kernel='rbf', max_iter=-1,\n",
       "    probability=True, random_state=None, shrinking=True, tol=0.001,\n",
       "    verbose=False)"
      ]
     },
     "execution_count": 24,
     "metadata": {},
     "output_type": "execute_result"
    }
   ],
   "source": [
    "grid_rbfMMS = GridSearchCV(SVC(kernel='rbf',cache_size=1000, probability=True), cv=3, param_grid=param_grid_rbfMMS) \n",
    "grid_rbfMMS.fit(X_train_minmax_rbf, y_train_rbf)\n",
    "best_C = grid_rbfMMS.best_estimator_.C\n",
    "best_gamma = grid_rbfMMS.best_estimator_.gamma\n",
    "print (\"The best C and gamma for rbf is: %.5f, %.5f \" % (best_C, best_gamma))\n",
    "grid_rbfMMS.best_estimator_"
   ]
  },
  {
   "cell_type": "code",
   "execution_count": 25,
   "metadata": {
    "scrolled": true
   },
   "outputs": [
    {
     "name": "stdout",
     "output_type": "stream",
     "text": [
      "Prediction accuracy:  0.8051948051948052\n",
      "[[140  17]\n",
      " [ 28  46]]\n",
      "              precision    recall  f1-score   support\n",
      "\n",
      "           0       0.83      0.89      0.86       157\n",
      "           1       0.73      0.62      0.67        74\n",
      "\n",
      "    accuracy                           0.81       231\n",
      "   macro avg       0.78      0.76      0.77       231\n",
      "weighted avg       0.80      0.81      0.80       231\n",
      "\n"
     ]
    }
   ],
   "source": [
    "best_predict_minmax_rbfMMS = grid_rbfMMS.best_estimator_.predict(X_test_minmax_rbf)\n",
    "pTot_rbfMMS = accuracy_score(y_test_rbf, best_predict_minmax_rbfMMS)\n",
    "print(\"Prediction accuracy: \",pTot_rbfMMS)\n",
    "cm_rbfMMS = confusion_matrix(y_test_rbf, best_predict_minmax_rbfMMS)\n",
    "print(cm_rbfMMS)\n",
    "report_rbfMMS = classification_report(y_test_rbf, best_predict_minmax_rbfMMS)\n",
    "print(report_rbfMMS)"
   ]
  },
  {
   "cell_type": "markdown",
   "metadata": {},
   "source": [
    "##### Parameter Tuned Min Max Scaled RBF Kernel SVC "
   ]
  },
  {
   "cell_type": "code",
   "execution_count": 26,
   "metadata": {},
   "outputs": [
    {
     "name": "stdout",
     "output_type": "stream",
     "text": [
      "Prediction accuracy:  0.8051948051948052\n"
     ]
    }
   ],
   "source": [
    "test_svc = SVC(C=10, gamma=1,kernel='rbf', cache_size=1000, probability=True) \n",
    "clf_test = test_svc.fit(X_train_minmax_rbf, y_train_rbf)\n",
    "y_pred_minmax_test = test_svc.predict(X_test_minmax_rbf) \n",
    "pTot = accuracy_score(y_test_rbf, y_pred_minmax_test)\n",
    "print (\"Prediction accuracy: \",pTot)"
   ]
  },
  {
   "cell_type": "markdown",
   "metadata": {},
   "source": [
    "using C = 1000 and gamma = 0.01 parameters as listed above from the gridsearch"
   ]
  },
  {
   "cell_type": "code",
   "execution_count": 27,
   "metadata": {},
   "outputs": [
    {
     "name": "stdout",
     "output_type": "stream",
     "text": [
      "[[140  17]\n",
      " [ 28  46]]\n"
     ]
    }
   ],
   "source": [
    "cm_rbfMMS_Test = confusion_matrix(y_test_rbf, best_predict_minmax_rbfMMS)\n",
    "print(cm_rbfMMS_Test)"
   ]
  },
  {
   "cell_type": "markdown",
   "metadata": {},
   "source": [
    "##### Parameter Tuned Min Max Scaled RBF Kernel Confusion Matrix"
   ]
  },
  {
   "cell_type": "code",
   "execution_count": 28,
   "metadata": {},
   "outputs": [
    {
     "name": "stdout",
     "output_type": "stream",
     "text": [
      "[[140  17]\n",
      " [ 28  46]]\n",
      "              precision    recall  f1-score   support\n",
      "\n",
      "           0       0.83      0.89      0.86       157\n",
      "           1       0.73      0.62      0.67        74\n",
      "\n",
      "    accuracy                           0.81       231\n",
      "   macro avg       0.78      0.76      0.77       231\n",
      "weighted avg       0.80      0.81      0.80       231\n",
      "\n"
     ]
    }
   ],
   "source": [
    "cm = confusion_matrix(y_test_rbf, y_pred_minmax_test)\n",
    "print(cm)\n",
    "report = classification_report(y_test_rbf, y_pred_minmax_test)\n",
    "print (report) #for each class prints: precision  recall  f1-score   support"
   ]
  },
  {
   "cell_type": "markdown",
   "metadata": {},
   "source": [
    "##### Parameter Tuned Min Max Scaled RBF Kernel Classification Report "
   ]
  },
  {
   "cell_type": "markdown",
   "metadata": {},
   "source": [
    "The fine tuned, min max scaled, RBF kernel ran a total of 231 predictions.\n",
    "\n",
    "The model predicted 0 class (nondiabetic) 168 times. \n",
    "Of the 168 times it predicted nondiabetic it was correct 140 times, and incorrect 28 times. This implies that we have 140 true negatives and 28 false negatives.  \n",
    "\n",
    "The model predicted 1 class (diabetic) 63 times.\n",
    "Of the 63 times it predicted diabetic it was correct 46 times\n",
    "and incorrect 17 times. This implies that we have 46 true positives and 17 false positives.\n",
    "\n",
    "                 Predicted Nondiabetic  Predicted Diabetic\n",
    "    Actual Nondiabetic            TN                FP\n",
    "    Actual Diabetic               FN                TP\n",
    "\n",
    "Accuracy:  81%,\n",
    "\n",
    "Precision:  73%,\n",
    "\n",
    "True Positive Rate: 62%, \n",
    "\n",
    "True Negative Rate: 83%, \n",
    "\n",
    "False Positive Rate: 11%,\n",
    "\n",
    "Misclassification: 20%,\n",
    "\n",
    "\n",
    "\n",
    "Compared to the scaled rbf model: \n",
    "\n",
    "We see an 7% increase in accuracy, 15% increase in precision, 12% decrease in TP rate, 3% decrease in TN rate, 15% decrease in FP rate decreased and 6% decrease in misclassification. Overall there were decreases in TP TN FP rates and a desirable increase in precision.\n"
   ]
  },
  {
   "cell_type": "markdown",
   "metadata": {},
   "source": [
    "##### Parameter Tuned Min Max Scaled RBF Kernel ROC Curve "
   ]
  },
  {
   "cell_type": "code",
   "execution_count": 29,
   "metadata": {},
   "outputs": [
    {
     "name": "stdout",
     "output_type": "stream",
     "text": [
      "AUC using predict_proba 0.8584954381132724\n"
     ]
    },
    {
     "data": {
      "text/plain": [
       "array([[0.18024893, 0.81975107],\n",
       "       [0.65916122, 0.34083878],\n",
       "       [0.89900958, 0.10099042],\n",
       "       [0.91031824, 0.08968176],\n",
       "       [0.92392636, 0.07607364],\n",
       "       [0.94396458, 0.05603542],\n",
       "       [0.52682366, 0.47317634],\n",
       "       [0.61580792, 0.38419208],\n",
       "       [0.53155494, 0.46844506],\n",
       "       [0.87907648, 0.12092352],\n",
       "       [0.64700687, 0.35299313],\n",
       "       [0.39865552, 0.60134448],\n",
       "       [0.9061548 , 0.0938452 ],\n",
       "       [0.94385885, 0.05614115],\n",
       "       [0.35436066, 0.64563934],\n",
       "       [0.90870197, 0.09129803],\n",
       "       [0.37316401, 0.62683599],\n",
       "       [0.61750806, 0.38249194],\n",
       "       [0.90732648, 0.09267352],\n",
       "       [0.64305071, 0.35694929],\n",
       "       [0.46258147, 0.53741853],\n",
       "       [0.69009767, 0.30990233],\n",
       "       [0.80718578, 0.19281422],\n",
       "       [0.62894132, 0.37105868],\n",
       "       [0.26005696, 0.73994304],\n",
       "       [0.6284366 , 0.3715634 ],\n",
       "       [0.83378183, 0.16621817],\n",
       "       [0.24418771, 0.75581229],\n",
       "       [0.230935  , 0.769065  ],\n",
       "       [0.61986316, 0.38013684],\n",
       "       [0.70529755, 0.29470245],\n",
       "       [0.83057543, 0.16942457],\n",
       "       [0.07618867, 0.92381133],\n",
       "       [0.79906171, 0.20093829],\n",
       "       [0.65712477, 0.34287523],\n",
       "       [0.89298361, 0.10701639],\n",
       "       [0.82285408, 0.17714592],\n",
       "       [0.66251371, 0.33748629],\n",
       "       [0.93427387, 0.06572613],\n",
       "       [0.21703429, 0.78296571],\n",
       "       [0.75184603, 0.24815397],\n",
       "       [0.58624945, 0.41375055],\n",
       "       [0.26462832, 0.73537168],\n",
       "       [0.76660863, 0.23339137],\n",
       "       [0.95739364, 0.04260636],\n",
       "       [0.10268693, 0.89731307],\n",
       "       [0.85197417, 0.14802583],\n",
       "       [0.42727324, 0.57272676],\n",
       "       [0.5355347 , 0.4644653 ],\n",
       "       [0.58553377, 0.41446623],\n",
       "       [0.84164134, 0.15835866],\n",
       "       [0.20566488, 0.79433512],\n",
       "       [0.70736933, 0.29263067],\n",
       "       [0.53566056, 0.46433944],\n",
       "       [0.79471739, 0.20528261],\n",
       "       [0.68335958, 0.31664042],\n",
       "       [0.18617501, 0.81382499],\n",
       "       [0.76502003, 0.23497997],\n",
       "       [0.93812631, 0.06187369],\n",
       "       [0.89954829, 0.10045171],\n",
       "       [0.39157276, 0.60842724],\n",
       "       [0.25851754, 0.74148246],\n",
       "       [0.84920355, 0.15079645],\n",
       "       [0.37047937, 0.62952063],\n",
       "       [0.87836747, 0.12163253],\n",
       "       [0.9476348 , 0.0523652 ],\n",
       "       [0.91233759, 0.08766241],\n",
       "       [0.75974553, 0.24025447],\n",
       "       [0.17665435, 0.82334565],\n",
       "       [0.92359935, 0.07640065],\n",
       "       [0.85650064, 0.14349936],\n",
       "       [0.62995284, 0.37004716],\n",
       "       [0.16149072, 0.83850928],\n",
       "       [0.6795141 , 0.3204859 ],\n",
       "       [0.86163914, 0.13836086],\n",
       "       [0.69573474, 0.30426526],\n",
       "       [0.92518598, 0.07481402],\n",
       "       [0.85105914, 0.14894086],\n",
       "       [0.45356915, 0.54643085],\n",
       "       [0.7562813 , 0.2437187 ],\n",
       "       [0.6687135 , 0.3312865 ],\n",
       "       [0.47653987, 0.52346013],\n",
       "       [0.851755  , 0.148245  ],\n",
       "       [0.88308457, 0.11691543],\n",
       "       [0.21739827, 0.78260173],\n",
       "       [0.7186613 , 0.2813387 ],\n",
       "       [0.22540523, 0.77459477],\n",
       "       [0.732095  , 0.267905  ],\n",
       "       [0.88443876, 0.11556124],\n",
       "       [0.76920965, 0.23079035],\n",
       "       [0.71313075, 0.28686925],\n",
       "       [0.92916504, 0.07083496],\n",
       "       [0.21470206, 0.78529794],\n",
       "       [0.87492594, 0.12507406],\n",
       "       [0.90797466, 0.09202534],\n",
       "       [0.89757013, 0.10242987],\n",
       "       [0.63459529, 0.36540471],\n",
       "       [0.8636636 , 0.1363364 ],\n",
       "       [0.17058837, 0.82941163],\n",
       "       [0.66978654, 0.33021346],\n",
       "       [0.88019053, 0.11980947],\n",
       "       [0.52352619, 0.47647381],\n",
       "       [0.3151927 , 0.6848073 ],\n",
       "       [0.74075886, 0.25924114],\n",
       "       [0.88543606, 0.11456394],\n",
       "       [0.48224007, 0.51775993],\n",
       "       [0.37629867, 0.62370133],\n",
       "       [0.79059206, 0.20940794],\n",
       "       [0.83540328, 0.16459672],\n",
       "       [0.80077828, 0.19922172],\n",
       "       [0.10757423, 0.89242577],\n",
       "       [0.8013567 , 0.1986433 ],\n",
       "       [0.07354961, 0.92645039],\n",
       "       [0.80823143, 0.19176857],\n",
       "       [0.85315575, 0.14684425],\n",
       "       [0.84351778, 0.15648222],\n",
       "       [0.91782783, 0.08217217],\n",
       "       [0.93531189, 0.06468811],\n",
       "       [0.92986571, 0.07013429],\n",
       "       [0.69738701, 0.30261299],\n",
       "       [0.84879426, 0.15120574],\n",
       "       [0.23621152, 0.76378848],\n",
       "       [0.5       , 0.5       ],\n",
       "       [0.80190108, 0.19809892],\n",
       "       [0.83948958, 0.16051042],\n",
       "       [0.90226768, 0.09773232],\n",
       "       [0.77971767, 0.22028233],\n",
       "       [0.06700167, 0.93299833],\n",
       "       [0.89965617, 0.10034383],\n",
       "       [0.15072226, 0.84927774],\n",
       "       [0.94826633, 0.05173367],\n",
       "       [0.74595105, 0.25404895],\n",
       "       [0.48100883, 0.51899117],\n",
       "       [0.91913713, 0.08086287],\n",
       "       [0.79323068, 0.20676932],\n",
       "       [0.84207497, 0.15792503],\n",
       "       [0.66372187, 0.33627813],\n",
       "       [0.82303876, 0.17696124],\n",
       "       [0.91506618, 0.08493382],\n",
       "       [0.89152153, 0.10847847],\n",
       "       [0.75646679, 0.24353321],\n",
       "       [0.48689072, 0.51310928],\n",
       "       [0.76766013, 0.23233987],\n",
       "       [0.11782359, 0.88217641],\n",
       "       [0.64061849, 0.35938151],\n",
       "       [0.78221718, 0.21778282],\n",
       "       [0.93334356, 0.06665644],\n",
       "       [0.90658519, 0.09341481],\n",
       "       [0.79944135, 0.20055865],\n",
       "       [0.28255873, 0.71744127],\n",
       "       [0.23433525, 0.76566475],\n",
       "       [0.94961678, 0.05038322],\n",
       "       [0.50696068, 0.49303932],\n",
       "       [0.86710273, 0.13289727],\n",
       "       [0.8946136 , 0.1053864 ],\n",
       "       [0.84105104, 0.15894896],\n",
       "       [0.93081668, 0.06918332],\n",
       "       [0.08189239, 0.91810761],\n",
       "       [0.7747497 , 0.2252503 ],\n",
       "       [0.70019955, 0.29980045],\n",
       "       [0.62050142, 0.37949858],\n",
       "       [0.22936727, 0.77063273],\n",
       "       [0.51473139, 0.48526861],\n",
       "       [0.93107856, 0.06892144],\n",
       "       [0.70485333, 0.29514667],\n",
       "       [0.50904108, 0.49095892],\n",
       "       [0.84055254, 0.15944746],\n",
       "       [0.34780253, 0.65219747],\n",
       "       [0.78608162, 0.21391838],\n",
       "       [0.7045635 , 0.2954365 ],\n",
       "       [0.83046584, 0.16953416],\n",
       "       [0.93250275, 0.06749725],\n",
       "       [0.27764079, 0.72235921],\n",
       "       [0.89023277, 0.10976723],\n",
       "       [0.29075659, 0.70924341],\n",
       "       [0.22243239, 0.77756761],\n",
       "       [0.91356854, 0.08643146],\n",
       "       [0.97131597, 0.02868403],\n",
       "       [0.8598625 , 0.1401375 ],\n",
       "       [0.23328912, 0.76671088],\n",
       "       [0.69227637, 0.30772363],\n",
       "       [0.87246523, 0.12753477],\n",
       "       [0.09475435, 0.90524565],\n",
       "       [0.8728797 , 0.1271203 ],\n",
       "       [0.70773469, 0.29226531],\n",
       "       [0.70291821, 0.29708179],\n",
       "       [0.6352113 , 0.3647887 ],\n",
       "       [0.2332999 , 0.7667001 ],\n",
       "       [0.80026164, 0.19973836],\n",
       "       [0.46745913, 0.53254087],\n",
       "       [0.82925138, 0.17074862],\n",
       "       [0.69358155, 0.30641845],\n",
       "       [0.7457094 , 0.2542906 ],\n",
       "       [0.1888422 , 0.8111578 ],\n",
       "       [0.59486565, 0.40513435],\n",
       "       [0.28733978, 0.71266022],\n",
       "       [0.79640401, 0.20359599],\n",
       "       [0.85428732, 0.14571268],\n",
       "       [0.95363007, 0.04636993],\n",
       "       [0.80028017, 0.19971983],\n",
       "       [0.89302386, 0.10697614],\n",
       "       [0.82791164, 0.17208836],\n",
       "       [0.9223208 , 0.0776792 ],\n",
       "       [0.5       , 0.5       ],\n",
       "       [0.73656179, 0.26343821],\n",
       "       [0.67048786, 0.32951214],\n",
       "       [0.86759814, 0.13240186],\n",
       "       [0.38442514, 0.61557486],\n",
       "       [0.54423748, 0.45576252],\n",
       "       [0.76531704, 0.23468296],\n",
       "       [0.12682653, 0.87317347],\n",
       "       [0.92099503, 0.07900497],\n",
       "       [0.5       , 0.5       ],\n",
       "       [0.9204485 , 0.0795515 ],\n",
       "       [0.54311724, 0.45688276],\n",
       "       [0.70503538, 0.29496462],\n",
       "       [0.71102331, 0.28897669],\n",
       "       [0.7742478 , 0.2257522 ],\n",
       "       [0.92845647, 0.07154353],\n",
       "       [0.87575717, 0.12424283],\n",
       "       [0.91713208, 0.08286792],\n",
       "       [0.43220493, 0.56779507],\n",
       "       [0.56911459, 0.43088541],\n",
       "       [0.46510571, 0.53489429],\n",
       "       [0.6929287 , 0.3070713 ],\n",
       "       [0.8923447 , 0.1076553 ],\n",
       "       [0.91853675, 0.08146325],\n",
       "       [0.72854216, 0.27145784],\n",
       "       [0.40523655, 0.59476345],\n",
       "       [0.80098629, 0.19901371],\n",
       "       [0.62401477, 0.37598523]])"
      ]
     },
     "execution_count": 29,
     "metadata": {},
     "output_type": "execute_result"
    }
   ],
   "source": [
    "probas_ = test_svc.fit(X_train_minmax_rbf, y_train_rbf).predict_proba(X_test_minmax_rbf)\n",
    "fpr, tpr, thresholds = roc_curve(y_test_rbf, probas_[:, 1])\n",
    "roc_auc_rbfT = auc(fpr, tpr)\n",
    "print (\"AUC using predict_proba\", roc_auc_rbfT)\n",
    "probas_"
   ]
  },
  {
   "cell_type": "markdown",
   "metadata": {},
   "source": [
    "AUC using predict_proba after min max scaling: 0.86%\n",
    "\n"
   ]
  },
  {
   "cell_type": "markdown",
   "metadata": {},
   "source": [
    "### Second Degree Polynomial Kernel Model Preparation "
   ]
  },
  {
   "cell_type": "markdown",
   "metadata": {},
   "source": [
    "##### Second Degree Polynomial Kernel Test Train Split "
   ]
  },
  {
   "cell_type": "code",
   "execution_count": 30,
   "metadata": {},
   "outputs": [],
   "source": [
    "X_train_poly, X_test_poly, y_train_poly, y_test_poly = train_test_split(X, y, test_size = 0.30)"
   ]
  },
  {
   "cell_type": "markdown",
   "metadata": {},
   "source": [
    "##### Second Degree Polynomial Kernel Test Train Split "
   ]
  },
  {
   "cell_type": "code",
   "execution_count": 31,
   "metadata": {},
   "outputs": [
    {
     "name": "stderr",
     "output_type": "stream",
     "text": [
      "/Users/patrickboada/anaconda/lib/python3.6/site-packages/pandas/core/generic.py:6288: SettingWithCopyWarning: \n",
      "A value is trying to be set on a copy of a slice from a DataFrame\n",
      "\n",
      "See the caveats in the documentation: http://pandas.pydata.org/pandas-docs/stable/user_guide/indexing.html#returning-a-view-versus-a-copy\n",
      "  self._update_inplace(new_data)\n"
     ]
    }
   ],
   "source": [
    "X_train_poly['plas'].fillna(X_train_poly.plas.median(),inplace=True)\n",
    "X_test_poly['plas'].fillna(X_test_poly.plas.median(),inplace=True)\n",
    "\n",
    "X_train_poly['pres'].fillna(X_train_poly.plas.median(),inplace=True)\n",
    "X_test_poly['pres'].fillna(X_test_poly.plas.median(),inplace=True)\n",
    "\n",
    "X_train_poly['mass'].fillna(X_train_poly.plas.median(),inplace=True)\n",
    "X_test_poly['mass'].fillna(X_test_poly.plas.median(),inplace=True)"
   ]
  },
  {
   "cell_type": "code",
   "execution_count": 32,
   "metadata": {},
   "outputs": [
    {
     "data": {
      "text/plain": [
       "preg    0\n",
       "plas    0\n",
       "pres    0\n",
       "mass    0\n",
       "pedi    0\n",
       "age     0\n",
       "dtype: int64"
      ]
     },
     "execution_count": 32,
     "metadata": {},
     "output_type": "execute_result"
    }
   ],
   "source": [
    "y_test_poly.isna().sum()\n",
    "y_train_poly.isna().sum()\n",
    "\n",
    "X_train_poly.isna().sum()\n",
    "X_test_poly.isna().sum()"
   ]
  },
  {
   "cell_type": "code",
   "execution_count": 33,
   "metadata": {},
   "outputs": [
    {
     "name": "stdout",
     "output_type": "stream",
     "text": [
      "<class 'pandas.core.frame.DataFrame'>\n",
      "Int64Index: 537 entries, 122 to 618\n",
      "Data columns (total 6 columns):\n",
      "preg    537 non-null int64\n",
      "plas    537 non-null float64\n",
      "pres    537 non-null float64\n",
      "mass    537 non-null float64\n",
      "pedi    537 non-null float64\n",
      "age     537 non-null int64\n",
      "dtypes: float64(4), int64(2)\n",
      "memory usage: 29.4 KB\n"
     ]
    }
   ],
   "source": [
    "X_train_poly.info()"
   ]
  },
  {
   "cell_type": "code",
   "execution_count": 34,
   "metadata": {},
   "outputs": [
    {
     "name": "stdout",
     "output_type": "stream",
     "text": [
      "<class 'pandas.core.frame.DataFrame'>\n",
      "Int64Index: 231 entries, 303 to 278\n",
      "Data columns (total 6 columns):\n",
      "preg    231 non-null int64\n",
      "plas    231 non-null float64\n",
      "pres    231 non-null float64\n",
      "mass    231 non-null float64\n",
      "pedi    231 non-null float64\n",
      "age     231 non-null int64\n",
      "dtypes: float64(4), int64(2)\n",
      "memory usage: 12.6 KB\n"
     ]
    }
   ],
   "source": [
    "X_test_poly.info()"
   ]
  },
  {
   "cell_type": "markdown",
   "metadata": {},
   "source": [
    "##### Second Degree Polynomial Kernel SVC"
   ]
  },
  {
   "cell_type": "code",
   "execution_count": 35,
   "metadata": {
    "scrolled": true
   },
   "outputs": [
    {
     "name": "stdout",
     "output_type": "stream",
     "text": [
      "SVC(C=1.0, cache_size=1000, class_weight=None, coef0=0.0,\n",
      "    decision_function_shape='ovr', degree=2, gamma='scale', kernel='poly',\n",
      "    max_iter=-1, probability=False, random_state=None, shrinking=True,\n",
      "    tol=0.001, verbose=False)\n",
      " Polynomial (2) Prediction accuracy:  0.7619047619047619\n",
      "[[133  18]\n",
      " [ 37  43]]\n"
     ]
    }
   ],
   "source": [
    "svc_poly = SVC(kernel='poly', degree = 2, cache_size=1000, gamma = 'scale', probability = False)  \n",
    "print(svc_poly)\n",
    "clf_poly = svc_poly.fit(X_train_poly, y_train_poly)\n",
    "y_pred_poly = svc_poly.predict(X_test_poly)\n",
    "pTot_poly = accuracy_score(y_test_poly, y_pred_poly)\n",
    "print(\" Polynomial (2) Prediction accuracy: \", pTot_poly)\n",
    "print(confusion_matrix(y_test_poly, y_pred_poly))"
   ]
  },
  {
   "cell_type": "markdown",
   "metadata": {},
   "source": [
    "\n",
    "The SVM ran a total of 231 predictions.\n",
    "\n",
    "The model predicted 0 class (nondiabetic) 170 times. \n",
    "Of the 170 times it predicted nondiabetic it was correct 133 times, and incorrect 37 times. This implies that we have 133 true negatives and 37 false negatives.  \n",
    "\n",
    "The model predicted 1 class (diabetic) 61 times.\n",
    "Of the 61 times it predicted diabetic it was correct 43 times\n",
    "and incorrect 18 times. This implies that we have 43 true positives and 18 false positives.\n",
    "\n",
    "                 Predicted Nondiabetic  Predicted Diabetic\n",
    "    Actual Nondiabetic            TN                FP\n",
    "    Actual Diabetic               FN                TP\n",
    "\n",
    "Accuracy:  76%, \n",
    "\n",
    "Precision: 71%, \n",
    "\n",
    "True Positive Rate: 54%, \n",
    "\n",
    "True Negative Rate: 78%, \n",
    "\n",
    "False Positive Rate: 12%, \n",
    "\n",
    "Misclassification: 24%\n"
   ]
  },
  {
   "cell_type": "markdown",
   "metadata": {},
   "source": [
    "##### Pickle Second Degree Polynomial Kernel SVC"
   ]
  },
  {
   "cell_type": "code",
   "execution_count": 36,
   "metadata": {},
   "outputs": [
    {
     "name": "stdout",
     "output_type": "stream",
     "text": [
      "SVC(C=1.0, cache_size=1000, class_weight=None, coef0=0.0,\n",
      "    decision_function_shape='ovr', degree=2, gamma='scale', kernel='poly',\n",
      "    max_iter=-1, probability=False, random_state=None, shrinking=True,\n",
      "    tol=0.001, verbose=False)\n",
      "Prediction accuracy:  0.7619047619047619\n",
      "[[133  18]\n",
      " [ 37  43]]\n"
     ]
    }
   ],
   "source": [
    "import pickle\n",
    "\n",
    "outfile_poly= open('model_poly2.pkl','wb')\n",
    "pickle.dump(svc_poly, outfile_poly)\n",
    "outfile_poly.close()\n",
    "\n",
    "infile_poly = open('model_poly2.pkl', 'rb')\n",
    "svc2_poly = pickle.load(infile_poly)\n",
    "infile_poly.close()\n",
    "\n",
    "print (svc2_poly)\n",
    "y_pred_poly = svc2_poly.predict(X_test_poly)\n",
    "pTot_poly = accuracy_score(y_test_poly, y_pred_poly)\n",
    "print(\"Prediction accuracy: \",pTot_poly)\n",
    "print(confusion_matrix(y_test_poly, y_pred_poly))\n",
    "\n",
    "\n"
   ]
  },
  {
   "cell_type": "markdown",
   "metadata": {},
   "source": [
    "##### Second Degree Polynomial Kernel SVC Confusion Matrix"
   ]
  },
  {
   "cell_type": "code",
   "execution_count": 37,
   "metadata": {},
   "outputs": [
    {
     "data": {
      "text/plain": [
       "array([[133,  18],\n",
       "       [ 37,  43]])"
      ]
     },
     "execution_count": 37,
     "metadata": {},
     "output_type": "execute_result"
    }
   ],
   "source": [
    "cm_poly = confusion_matrix(y_test_poly, y_pred_poly)\n",
    "cm_poly"
   ]
  },
  {
   "cell_type": "markdown",
   "metadata": {},
   "source": [
    "##### Second Degree Polynomial Kernel SVC Classification Repor "
   ]
  },
  {
   "cell_type": "code",
   "execution_count": 38,
   "metadata": {},
   "outputs": [
    {
     "name": "stdout",
     "output_type": "stream",
     "text": [
      "              precision    recall  f1-score   support\n",
      "\n",
      "           0       0.78      0.88      0.83       151\n",
      "           1       0.70      0.54      0.61        80\n",
      "\n",
      "    accuracy                           0.76       231\n",
      "   macro avg       0.74      0.71      0.72       231\n",
      "weighted avg       0.76      0.76      0.75       231\n",
      "\n"
     ]
    }
   ],
   "source": [
    "report_poly = classification_report(y_test_poly, y_pred_poly)\n",
    "print(report_poly)"
   ]
  },
  {
   "cell_type": "markdown",
   "metadata": {},
   "source": [
    "##### Second Degree Polynomial Kernel SVC Data Min Max Scaling"
   ]
  },
  {
   "cell_type": "code",
   "execution_count": 39,
   "metadata": {},
   "outputs": [
    {
     "name": "stdout",
     "output_type": "stream",
     "text": [
      "     preg   plas   pres  mass   pedi  age\n",
      "303     5  115.0   98.0  52.9  0.209   28\n",
      "473     7  136.0   90.0  29.9  0.210   50\n",
      "259    11  155.0   76.0  33.3  1.353   51\n",
      "392     1  131.0   64.0  23.7  0.389   21\n",
      "257     2  114.0   68.0  28.7  0.092   25\n",
      "..    ...    ...    ...   ...    ...  ...\n",
      "169     3  111.0   90.0  28.4  0.495   29\n",
      "498     7  195.0   70.0  25.1  0.163   55\n",
      "194     8   85.0   55.0  24.4  0.136   42\n",
      "691    13  158.0  114.0  42.3  0.257   44\n",
      "278     5  114.0   74.0  24.9  0.744   57\n",
      "\n",
      "[231 rows x 6 columns]\n"
     ]
    },
    {
     "data": {
      "text/plain": [
       "array([[0.29411765, 0.46405229, 0.75510204, 0.35121457, 0.05310493,\n",
       "        0.11666667],\n",
       "       [0.41176471, 0.60130719, 0.67346939, 0.11842105, 0.05353319,\n",
       "        0.48333333],\n",
       "       [0.64705882, 0.7254902 , 0.53061224, 0.15283401, 0.54304069,\n",
       "        0.5       ],\n",
       "       ...,\n",
       "       [0.47058824, 0.26797386, 0.31632653, 0.06275304, 0.02184154,\n",
       "        0.35      ],\n",
       "       [0.76470588, 0.74509804, 0.91836735, 0.24392713, 0.07366167,\n",
       "        0.38333333],\n",
       "       [0.29411765, 0.45751634, 0.51020408, 0.06781377, 0.28222698,\n",
       "        0.6       ]])"
      ]
     },
     "execution_count": 39,
     "metadata": {},
     "output_type": "execute_result"
    }
   ],
   "source": [
    "print(X_test_poly)\n",
    "min_max_scaler_poly = MinMaxScaler()\n",
    "X_train_minmax_poly = min_max_scaler_poly.fit_transform(X_train_poly)\n",
    "X_test_minmax_poly = min_max_scaler_poly.transform(X_test_poly)\n",
    "X_test_minmax_poly "
   ]
  },
  {
   "cell_type": "markdown",
   "metadata": {},
   "source": [
    "###### Min Max Scaled Second Degree Polynomial Kernel SVC"
   ]
  },
  {
   "cell_type": "code",
   "execution_count": 40,
   "metadata": {},
   "outputs": [
    {
     "name": "stdout",
     "output_type": "stream",
     "text": [
      "SVC(C=1.0, cache_size=1000, class_weight='balanced', coef0=0.0,\n",
      "    decision_function_shape='ovr', degree=2, gamma='scale', kernel='poly',\n",
      "    max_iter=-1, probability=True, random_state=None, shrinking=True, tol=0.001,\n",
      "    verbose=False)\n",
      "Prediction accuracy:  0.7965367965367965\n"
     ]
    }
   ],
   "source": [
    "svc_polyMMS = SVC(kernel='poly', degree = 2, gamma = 'scale', class_weight='balanced', cache_size=1000, probability=True) \n",
    "print(svc_polyMMS) # calls SVC __str__ to view all the attibutes, including the default params you used \n",
    "clf_polyMMS = svc_polyMMS.fit(X_train_minmax_poly, y_train_poly) # trains the classifier on the training set\n",
    "y_pred_minmax_poly = svc_polyMMS.predict(X_test_minmax_poly) # tests the classifier on the test set\n",
    "pTot_polyMMS = accuracy_score(y_test_poly, y_pred_minmax_poly)\n",
    "print(\"Prediction accuracy: \",pTot_polyMMS)"
   ]
  },
  {
   "cell_type": "markdown",
   "metadata": {},
   "source": [
    "###### Min Max Scaled Second Degree Polynomial Kernel Confusion Matrix"
   ]
  },
  {
   "cell_type": "code",
   "execution_count": 41,
   "metadata": {
    "scrolled": true
   },
   "outputs": [
    {
     "name": "stdout",
     "output_type": "stream",
     "text": [
      "[[122  29]\n",
      " [ 18  62]]\n",
      "              precision    recall  f1-score   support\n",
      "\n",
      "           0       0.87      0.81      0.84       151\n",
      "           1       0.68      0.78      0.73        80\n",
      "\n",
      "    accuracy                           0.80       231\n",
      "   macro avg       0.78      0.79      0.78       231\n",
      "weighted avg       0.81      0.80      0.80       231\n",
      "\n"
     ]
    }
   ],
   "source": [
    "cm_polyMMS = confusion_matrix(y_test_poly, y_pred_minmax_poly)\n",
    "print(cm_polyMMS)\n",
    "report_polyMMS = classification_report(y_test_poly, y_pred_minmax_poly)\n",
    "print(report_polyMMS)"
   ]
  },
  {
   "cell_type": "markdown",
   "metadata": {},
   "source": [
    "##### Min Max Scaled Second Degree Polynomial Kernel Classification Report "
   ]
  },
  {
   "cell_type": "markdown",
   "metadata": {},
   "source": [
    "\n",
    "The SVM ran a total of 231 predictions.\n",
    "\n",
    "The model predicted 0 class (nondiabetic) 140 times. \n",
    "Of the 140 times it predicted nondiabetic it was correct 122 times, and incorrect 18 times. This implies that we have 122 true negatives and 18 false negatives.  \n",
    "\n",
    "The model predicted 1 class (diabetic) 91 times.\n",
    "Of the 91 times it predicted diabetic it was correct 62 times\n",
    "and incorrect 29 times. This implies that we have 62 true positives and 29 false positives.\n",
    "\n",
    "                 Predicted Nondiabetic  Predicted Diabetic\n",
    "    Actual Nondiabetic            TN                FP\n",
    "    Actual Diabetic               FN                TP\n",
    "\n",
    "\n",
    "\n",
    "\n",
    "\n",
    "Accuracy:  80%, \n",
    "\n",
    "Precision: 68%, \n",
    "\n",
    "True Positive Rate: 78%, \n",
    "\n",
    "True Negative Rate: 87%, \n",
    "\n",
    "False Positive Rate: 19%, \n",
    "\n",
    "Misclassification: 20%\n",
    "\n",
    "After min max scaling we can see a 4% increase in accuracy, 3% decrease in precision, 24% increase in TP rate, 9% increase in TN rate, 7% increase in FP rate, and 4% decrease in misclassification."
   ]
  },
  {
   "cell_type": "markdown",
   "metadata": {},
   "source": [
    "##### Min Max Scaled Second Degree Polynomial Kernel ROC Curve"
   ]
  },
  {
   "cell_type": "code",
   "execution_count": 42,
   "metadata": {},
   "outputs": [
    {
     "name": "stdout",
     "output_type": "stream",
     "text": [
      "thresholds [1.99998687 0.99998687 0.98302888 0.9267284  0.91442683 0.83220642\n",
      " 0.83063995 0.81609776 0.81360955 0.80465415 0.8009077  0.79065749\n",
      " 0.78031149 0.76715812 0.75386235 0.72577748 0.71424648 0.67637063\n",
      " 0.66218873 0.65802807 0.63744424 0.61873342 0.59983689 0.57823039\n",
      " 0.57405177 0.54473512 0.53761897 0.53693485 0.5366442  0.53030984\n",
      " 0.52266067 0.51203829 0.50737027 0.48674004 0.46836351 0.46615687\n",
      " 0.45847198 0.42821811 0.42728875 0.41143089 0.40965997 0.40703985\n",
      " 0.4004701  0.40001574 0.39879702 0.38299045 0.38217971 0.38199685\n",
      " 0.38136909 0.37679334 0.37477678 0.36560815 0.31950822 0.31756477\n",
      " 0.31026275 0.31018278 0.29893246 0.29395332 0.2629658  0.25994503\n",
      " 0.25736619 0.25732188 0.23491047 0.23481663 0.22935824 0.2224125\n",
      " 0.18499434 0.17828558 0.17248741 0.17203007 0.16729622 0.16595211\n",
      " 0.16576352 0.16420221 0.14478042 0.14292382 0.12438162 0.1236735\n",
      " 0.04304524]\n",
      "probas_ [[6.23206659e-01 3.76793341e-01]\n",
      " [6.17820291e-01 3.82179709e-01]\n",
      " [4.92473200e-02 9.50752680e-01]\n",
      " [8.07348689e-01 1.92651311e-01]\n",
      " [8.42082573e-01 1.57917427e-01]\n",
      " [6.25223222e-01 3.74776778e-01]\n",
      " [2.62153570e-01 7.37846430e-01]\n",
      " [7.88769636e-01 2.11230364e-01]\n",
      " [7.77587495e-01 2.22412505e-01]\n",
      " [9.19554782e-01 8.04452177e-02]\n",
      " [3.04752764e-01 6.95247236e-01]\n",
      " [8.27512594e-01 1.72487406e-01]\n",
      " [8.76326500e-01 1.23673500e-01]\n",
      " [7.95816349e-01 2.04183651e-01]\n",
      " [1.25893811e-01 8.74106189e-01]\n",
      " [8.97136652e-01 1.02863348e-01]\n",
      " [8.83237220e-01 1.16762780e-01]\n",
      " [1.72735608e-01 8.27264392e-01]\n",
      " [8.63639832e-01 1.36360168e-01]\n",
      " [8.69687654e-01 1.30312346e-01]\n",
      " [9.19726894e-01 8.02731055e-02]\n",
      " [8.10635457e-01 1.89364543e-01]\n",
      " [5.13259964e-01 4.86740036e-01]\n",
      " [9.08511154e-01 9.14888459e-02]\n",
      " [8.50564090e-01 1.49435910e-01]\n",
      " [9.16717263e-01 8.32827372e-02]\n",
      " [4.92629727e-01 5.07370273e-01]\n",
      " [7.65866973e-01 2.34133027e-01]\n",
      " [8.34236478e-01 1.65763522e-01]\n",
      " [9.35359004e-01 6.46409961e-02]\n",
      " [7.17589541e-01 2.82410459e-01]\n",
      " [8.35926400e-01 1.64073600e-01]\n",
      " [3.81266577e-01 6.18733423e-01]\n",
      " [3.29848104e-02 9.67015190e-01]\n",
      " [8.69707118e-01 1.30292882e-01]\n",
      " [6.80491776e-01 3.19508224e-01]\n",
      " [5.81026825e-01 4.18973175e-01]\n",
      " [1.06016090e-01 8.93983910e-01]\n",
      " [1.99092301e-01 8.00907699e-01]\n",
      " [7.64382590e-01 2.35617410e-01]\n",
      " [8.44844816e-01 1.55155184e-01]\n",
      " [3.62555759e-01 6.37444241e-01]\n",
      " [7.70641759e-01 2.29358241e-01]\n",
      " [4.55264875e-01 5.44735125e-01]\n",
      " [1.34248228e-01 8.65751772e-01]\n",
      " [8.34047893e-01 1.65952107e-01]\n",
      " [5.54714379e-01 4.45285621e-01]\n",
      " [9.30495136e-01 6.95048639e-02]\n",
      " [7.40054973e-01 2.59945027e-01]\n",
      " [4.94789228e-02 9.50521077e-01]\n",
      " [8.99302539e-01 1.00697461e-01]\n",
      " [7.25342888e-01 2.74657112e-01]\n",
      " [7.83147416e-01 2.16852584e-01]\n",
      " [4.62381029e-01 5.37618971e-01]\n",
      " [8.36300509e-01 1.63699491e-01]\n",
      " [4.87961705e-01 5.12038295e-01]\n",
      " [8.48843453e-01 1.51156547e-01]\n",
      " [9.06933364e-01 9.30666362e-02]\n",
      " [5.13237621e-01 4.86762379e-01]\n",
      " [7.65183370e-01 2.34816630e-01]\n",
      " [8.55219578e-01 1.44780422e-01]\n",
      " [1.83289661e-01 8.16710339e-01]\n",
      " [8.57076182e-01 1.42923818e-01]\n",
      " [4.06978601e-01 5.93021399e-01]\n",
      " [6.58632559e-01 3.41367441e-01]\n",
      " [6.89737252e-01 3.10262748e-01]\n",
      " [7.71261456e-01 2.28738544e-01]\n",
      " [7.32715991e-02 9.26728401e-01]\n",
      " [8.49607894e-01 1.50392106e-01]\n",
      " [8.86853840e-01 1.13146160e-01]\n",
      " [2.32841880e-01 7.67158120e-01]\n",
      " [7.54899727e-01 2.45100273e-01]\n",
      " [1.76065429e-01 8.23934571e-01]\n",
      " [7.29238095e-01 2.70761905e-01]\n",
      " [1.89777490e-01 8.10222510e-01]\n",
      " [6.82435234e-01 3.17564766e-01]\n",
      " [8.11020322e-01 1.88979678e-01]\n",
      " [5.99529895e-01 4.00470105e-01]\n",
      " [8.59746454e-01 1.40253546e-01]\n",
      " [5.33843134e-01 4.66156866e-01]\n",
      " [5.31636491e-01 4.68363509e-01]\n",
      " [8.80522446e-01 1.19477554e-01]\n",
      " [8.69208555e-01 1.30791445e-01]\n",
      " [3.67190073e-01 6.32809927e-01]\n",
      " [1.82607843e-01 8.17392157e-01]\n",
      " [8.92233484e-01 1.07766516e-01]\n",
      " [7.42633812e-01 2.57366188e-01]\n",
      " [8.94652710e-01 1.05347290e-01]\n",
      " [2.09342515e-01 7.90657485e-01]\n",
      " [8.77520328e-01 1.22479672e-01]\n",
      " [8.27969925e-01 1.72030075e-01]\n",
      " [1.83902242e-01 8.16097758e-01]\n",
      " [1.67793575e-01 8.32206425e-01]\n",
      " [6.17009546e-01 3.82990454e-01]\n",
      " [8.87958899e-01 1.12041101e-01]\n",
      " [6.53389975e-01 3.46610025e-01]\n",
      " [8.74031500e-01 1.25968500e-01]\n",
      " [8.15005657e-01 1.84994343e-01]\n",
      " [7.67062273e-01 2.32937727e-01]\n",
      " [8.75618375e-01 1.24381625e-01]\n",
      " [8.71868922e-01 1.28131078e-01]\n",
      " [4.58774705e-02 9.54122529e-01]\n",
      " [9.02076924e-01 9.79230764e-02]\n",
      " [8.68683421e-01 1.31316579e-01]\n",
      " [8.21714418e-01 1.78285582e-01]\n",
      " [1.31329273e-05 9.99986867e-01]\n",
      " [5.13957751e-01 4.86042249e-01]\n",
      " [4.63355796e-01 5.36644204e-01]\n",
      " [7.96611717e-01 2.03388283e-01]\n",
      " [8.32156857e-01 1.67843143e-01]\n",
      " [7.28436661e-01 2.71563339e-01]\n",
      " [8.82327019e-01 1.17672981e-01]\n",
      " [8.54223408e-01 1.45776592e-01]\n",
      " [7.94931045e-01 2.05068955e-01]\n",
      " [7.06046685e-01 2.93953315e-01]\n",
      " [4.77339334e-01 5.22660666e-01]\n",
      " [3.41971926e-01 6.58028074e-01]\n",
      " [5.43191862e-01 4.56808138e-01]\n",
      " [8.01361708e-01 1.98638292e-01]\n",
      " [8.79179746e-01 1.20820254e-01]\n",
      " [6.85531538e-01 3.14468462e-01]\n",
      " [7.97773013e-01 2.02226987e-01]\n",
      " [6.62770820e-01 3.37229180e-01]\n",
      " [4.69690161e-01 5.30309839e-01]\n",
      " [8.45775359e-01 1.54224641e-01]\n",
      " [1.69360047e-01 8.30639953e-01]\n",
      " [1.64897257e-01 8.35102743e-01]\n",
      " [4.25948235e-01 5.74051765e-01]\n",
      " [5.41528019e-01 4.58471981e-01]\n",
      " [8.55731674e-02 9.14426833e-01]\n",
      " [9.00201526e-01 9.97984738e-02]\n",
      " [6.44230786e-01 3.55769214e-01]\n",
      " [2.46137653e-01 7.53862347e-01]\n",
      " [8.26135851e-01 1.73864149e-01]\n",
      " [8.48931897e-01 1.51068103e-01]\n",
      " [8.05724336e-01 1.94275664e-01]\n",
      " [2.21935012e-01 7.78064988e-01]\n",
      " [7.35616248e-01 2.64383752e-01]\n",
      " [1.69711206e-02 9.83028879e-01]\n",
      " [2.04414897e-01 7.95585103e-01]\n",
      " [4.00163108e-01 5.99836892e-01]\n",
      " [4.89404408e-01 5.10595592e-01]\n",
      " [6.19848127e-01 3.80151873e-01]\n",
      " [1.86390453e-01 8.13609547e-01]\n",
      " [7.17777736e-01 2.82222264e-01]\n",
      " [6.01202984e-01 3.98797016e-01]\n",
      " [9.21296047e-01 7.87039529e-02]\n",
      " [9.56954762e-01 4.30452378e-02]\n",
      " [3.07871599e-02 9.69212840e-01]\n",
      " [6.18630910e-01 3.81369090e-01]\n",
      " [6.18003147e-01 3.81996853e-01]\n",
      " [8.46905459e-01 1.53094541e-01]\n",
      " [8.32703780e-01 1.67296220e-01]\n",
      " [8.35797788e-01 1.64202212e-01]\n",
      " [7.62121294e-01 2.37878706e-01]\n",
      " [6.92248467e-01 3.07751533e-01]\n",
      " [7.57734245e-01 2.42265755e-01]\n",
      " [6.89817217e-01 3.10182783e-01]\n",
      " [8.78353449e-01 1.21646551e-01]\n",
      " [7.23204016e-02 9.27679598e-01]\n",
      " [8.64486692e-01 1.35513308e-01]\n",
      " [2.19688515e-01 7.80311485e-01]\n",
      " [8.91883058e-01 1.08116942e-01]\n",
      " [5.21119141e-02 9.47888086e-01]\n",
      " [5.99984265e-01 4.00015735e-01]\n",
      " [5.92960154e-01 4.07039846e-01]\n",
      " [8.40668148e-01 1.59331852e-01]\n",
      " [6.81534335e-01 3.18465665e-01]\n",
      " [8.78938274e-01 1.21061726e-01]\n",
      " [7.14394444e-01 2.85605556e-01]\n",
      " [7.14375734e-01 2.85624266e-01]\n",
      " [7.00733004e-01 2.99266996e-01]\n",
      " [6.37736616e-01 3.62263384e-01]\n",
      " [8.94700235e-01 1.05299765e-01]\n",
      " [6.85538076e-01 3.14461924e-01]\n",
      " [8.04386988e-01 1.95613012e-01]\n",
      " [8.89944429e-01 1.10055571e-01]\n",
      " [8.26916373e-01 1.73083627e-01]\n",
      " [9.06252633e-01 9.37473669e-02]\n",
      " [6.95952213e-01 3.04047787e-01]\n",
      " [5.71781886e-01 4.28218114e-01]\n",
      " [5.72711253e-01 4.27288747e-01]\n",
      " [2.73751655e-01 7.26248345e-01]\n",
      " [5.70507911e-01 4.29492089e-01]\n",
      " [6.03975602e-01 3.96024398e-01]\n",
      " [8.33772564e-01 1.66227436e-01]\n",
      " [4.63065151e-01 5.36934849e-01]\n",
      " [8.42483825e-01 1.57516175e-01]\n",
      " [2.74222516e-01 7.25777484e-01]\n",
      " [6.87873103e-01 3.12126897e-01]\n",
      " [1.95345851e-01 8.04654149e-01]\n",
      " [7.51514924e-01 2.48485076e-01]\n",
      " [7.99579605e-01 2.00420395e-01]\n",
      " [1.27168688e-01 8.72831312e-01]\n",
      " [5.76335953e-01 4.23664047e-01]\n",
      " [5.90340032e-01 4.09659968e-01]\n",
      " [4.41670115e-02 9.55832989e-01]\n",
      " [7.62348219e-01 2.37651781e-01]\n",
      " [8.49587022e-01 1.50412978e-01]\n",
      " [3.01459619e-01 6.98540381e-01]\n",
      " [8.20253910e-01 1.79746090e-01]\n",
      " [9.05521458e-01 9.44785418e-02]\n",
      " [8.99306427e-01 1.00693573e-01]\n",
      " [5.88569115e-01 4.11430885e-01]\n",
      " [8.77979911e-01 1.22020089e-01]\n",
      " [7.89441511e-01 2.10558489e-01]\n",
      " [9.00502882e-01 9.94971177e-02]\n",
      " [1.56174048e-01 8.43825952e-01]\n",
      " [7.60745507e-01 2.39254493e-01]\n",
      " [7.01067541e-01 2.98932459e-01]\n",
      " [6.34391850e-01 3.65608150e-01]\n",
      " [2.20917709e-01 7.79082291e-01]\n",
      " [8.68504302e-01 1.31495698e-01]\n",
      " [7.37034205e-01 2.62965795e-01]\n",
      " [8.93176132e-01 1.06823868e-01]\n",
      " [4.21769607e-01 5.78230393e-01]\n",
      " [7.42678123e-01 2.57321877e-01]\n",
      " [3.37811270e-01 6.62188730e-01]\n",
      " [2.85753521e-01 7.14246479e-01]\n",
      " [8.22114119e-01 1.77885881e-01]\n",
      " [1.92607865e-01 8.07392135e-01]\n",
      " [8.23553026e-01 1.76446974e-01]\n",
      " [7.50666043e-01 2.49333957e-01]\n",
      " [9.29482154e-01 7.05178459e-02]\n",
      " [7.31339055e-01 2.68660945e-01]\n",
      " [5.27037755e-01 4.72962245e-01]\n",
      " [7.65089530e-01 2.34910470e-01]\n",
      " [3.23629367e-01 6.76370633e-01]\n",
      " [9.15893213e-01 8.41067869e-02]\n",
      " [1.42233235e-01 8.57766765e-01]\n",
      " [7.69564199e-01 2.30435801e-01]]\n",
      "AUC using predict_proba 0.8428807947019868\n"
     ]
    }
   ],
   "source": [
    "probas_polyMMS = svc_polyMMS.fit(X_train_minmax_poly, y_train_poly).predict_proba(X_test_minmax_poly)\n",
    "fpr_poly, tpr_poly, thresholds_poly = roc_curve(y_test_poly, probas_polyMMS[:, 1])\n",
    "roc_auc_polyMMS = auc(fpr_poly, tpr_poly)\n",
    "print (\"thresholds\", thresholds_poly)\n",
    "print (\"probas_\", probas_polyMMS)\n",
    "print (\"AUC using predict_proba\", roc_auc_polyMMS)"
   ]
  },
  {
   "cell_type": "code",
   "execution_count": 43,
   "metadata": {},
   "outputs": [],
   "source": [
    "%matplotlib inline"
   ]
  },
  {
   "cell_type": "code",
   "execution_count": 44,
   "metadata": {},
   "outputs": [
    {
     "data": {
      "image/png": "[encoded data removed]",
      "text/plain": [
       "<Figure size 432x288 with 1 Axes>"
      ]
     },
     "metadata": {
      "needs_background": "light"
     },
     "output_type": "display_data"
    }
   ],
   "source": [
    "plt.figure()\n",
    "#plt.plot(fpr, tpr, label='ROC curve (area = %0.2f)' % roc_auc, lw=4 ) # plot ROC curve, no marker\n",
    "plt.plot(fpr_poly, tpr_poly, label='ROC curve (area = %0.2f)' % roc_auc_polyMMS, lw=3, color =\"#0000ff\", marker='s',markerfacecolor=\"red\", markersize=2) \n",
    "plt.plot([0, 1], [0, 1], 'k--') # also plot black dashed line (k=black) from (0,0) to (1,1)\n",
    "\n",
    "# Set x and y ranges, labels, title and legend\n",
    "plt.xlim([-0.005, 1.0])  #x range basically from 0 to 1: start range a bit to left of min x value to see thick line better\n",
    "plt.ylim([0.0, 1.005])   #0 range basically from 0 to 1: extend range a bit above max y value to see thick line better\n",
    "plt.xlabel('False Positive Rate')\n",
    "plt.ylabel('True Positive Rate')\n",
    "plt.title('Receiver operating characteristic example')\n",
    "plt.legend(loc=\"lower right\")\n",
    "plt.show()"
   ]
  },
  {
   "cell_type": "markdown",
   "metadata": {},
   "source": [
    "Area under curve improves with poly model"
   ]
  },
  {
   "cell_type": "code",
   "execution_count": 45,
   "metadata": {},
   "outputs": [
    {
     "name": "stdout",
     "output_type": "stream",
     "text": [
      "[0.01, 0.1, 1, 'auto', 10, 100]\n"
     ]
    },
    {
     "data": {
      "text/plain": [
       "{'gamma': [0.01, 0.1, 1, 'auto', 10, 100],\n",
       " 'C': array([1.e-02, 1.e-01, 1.e+00, 1.e+01, 1.e+02, 1.e+03])}"
      ]
     },
     "execution_count": 45,
     "metadata": {},
     "output_type": "execute_result"
    }
   ],
   "source": [
    "C_range_poly = 10.0 ** np.arange(-2, 4)\n",
    "gamma_range_poly = [.01, .1, 1, 'auto', 10, 100]\n",
    "print(gamma_range_poly)\n",
    "param_grid_poly = dict(gamma=gamma_range_poly, C=C_range_poly)\n",
    "param_grid_poly"
   ]
  },
  {
   "cell_type": "markdown",
   "metadata": {},
   "source": [
    "#####  Min Max Scaled Second Degree Polynomial Kernel Grid Search Parameter Fine Tuning  "
   ]
  },
  {
   "cell_type": "code",
   "execution_count": 46,
   "metadata": {},
   "outputs": [
    {
     "name": "stdout",
     "output_type": "stream",
     "text": [
      "The best C and gamma for the second degree polynomial is: 0.10000, 10.00000 \n"
     ]
    },
    {
     "data": {
      "text/plain": [
       "SVC(C=0.1, cache_size=1000, class_weight=None, coef0=0.0,\n",
       "    decision_function_shape='ovr', degree=2, gamma=10, kernel='poly',\n",
       "    max_iter=-1, probability=False, random_state=None, shrinking=True,\n",
       "    tol=0.001, verbose=False)"
      ]
     },
     "execution_count": 46,
     "metadata": {},
     "output_type": "execute_result"
    }
   ],
   "source": [
    "grid_poly = GridSearchCV(SVC(kernel='poly', degree = 2, cache_size=1000, probability=False), param_grid=param_grid_poly, cv =3)  \n",
    "grid_poly.fit(X_train_minmax_poly, y_train_poly)\n",
    "best_C_poly = grid_poly.best_estimator_.C\n",
    "best_gamma_poly = grid_poly.best_estimator_.gamma\n",
    "print(\"The best C and gamma for the second degree polynomial is: %.5f, %.5f \" % (best_C_poly, best_gamma_poly))\n",
    "grid_poly.best_estimator_"
   ]
  },
  {
   "cell_type": "markdown",
   "metadata": {},
   "source": [
    "The best C and gamma for the second degree polynomial kernel is: 0.1000, 10.00000"
   ]
  },
  {
   "cell_type": "code",
   "execution_count": 47,
   "metadata": {},
   "outputs": [
    {
     "name": "stdout",
     "output_type": "stream",
     "text": [
      "Prediction accuracy:  0.7835497835497836\n",
      "[[134  17]\n",
      " [ 33  47]]\n",
      "              precision    recall  f1-score   support\n",
      "\n",
      "           0       0.80      0.89      0.84       151\n",
      "           1       0.73      0.59      0.65        80\n",
      "\n",
      "    accuracy                           0.78       231\n",
      "   macro avg       0.77      0.74      0.75       231\n",
      "weighted avg       0.78      0.78      0.78       231\n",
      "\n"
     ]
    }
   ],
   "source": [
    "best_predict_minmax_poly = grid_poly.best_estimator_.predict(X_test_minmax_poly)\n",
    "pTot_poly = accuracy_score(y_test_poly, best_predict_minmax_poly)\n",
    "print(\"Prediction accuracy: \",pTot_poly)\n",
    "cmp_poly = confusion_matrix(y_test_poly, best_predict_minmax_poly)\n",
    "print(cmp_poly)\n",
    "report_poly = classification_report(y_test_poly, best_predict_minmax_poly)\n",
    "print(report_poly) #for each class prints: precision  recall  f1-score   support"
   ]
  },
  {
   "cell_type": "markdown",
   "metadata": {},
   "source": [
    "##### Parameter Tuned Min Max Scaled Second Degree Polynomial Kernel SVC"
   ]
  },
  {
   "cell_type": "code",
   "execution_count": 48,
   "metadata": {},
   "outputs": [
    {
     "name": "stdout",
     "output_type": "stream",
     "text": [
      "Prediction accuracy:  0.7835497835497836\n"
     ]
    }
   ],
   "source": [
    "test_svc_poly = SVC(C=0.1, gamma=10,kernel='poly', degree = 2, cache_size=1000, probability=True) \n",
    "clf_test_poly = test_svc_poly.fit(X_train_minmax_poly, y_train_poly)\n",
    "y_pred_minmax_test_poly = test_svc_poly.predict(X_test_minmax_poly) \n",
    "pTot_poly = accuracy_score(y_test_poly, y_pred_minmax_test_poly)\n",
    "print (\"Prediction accuracy: \",pTot_poly)"
   ]
  },
  {
   "cell_type": "markdown",
   "metadata": {},
   "source": [
    "#####  Parameter Tuned Min Max Scaled Second Degree Polynomial Kernel Confusion Matrix"
   ]
  },
  {
   "cell_type": "code",
   "execution_count": 49,
   "metadata": {
    "scrolled": true
   },
   "outputs": [
    {
     "name": "stdout",
     "output_type": "stream",
     "text": [
      "[[134  17]\n",
      " [ 33  47]]\n",
      "              precision    recall  f1-score   support\n",
      "\n",
      "           0       0.80      0.89      0.84       151\n",
      "           1       0.73      0.59      0.65        80\n",
      "\n",
      "    accuracy                           0.78       231\n",
      "   macro avg       0.77      0.74      0.75       231\n",
      "weighted avg       0.78      0.78      0.78       231\n",
      "\n"
     ]
    }
   ],
   "source": [
    "cm_poly = confusion_matrix(y_test_poly, y_pred_minmax_test_poly)\n",
    "print(cm_poly)\n",
    "report_poly = classification_report(y_test_poly, y_pred_minmax_test_poly)\n",
    "print (report_poly)"
   ]
  },
  {
   "cell_type": "markdown",
   "metadata": {},
   "source": [
    "##### Parameter Tuned Min Max Scaled Second Degree Polynomial Kernel Classification Report "
   ]
  },
  {
   "cell_type": "markdown",
   "metadata": {},
   "source": [
    "The SVM ran a total of 231 predictions.\n",
    "\n",
    "The model predicted 0 class (nondiabetic) 167 times. \n",
    "Of the 167 times it predicted nondiabetic it was correct 134 times, and incorrect 33 times. This implies that we have 134 true negatives and 33 false negatives.  \n",
    "\n",
    "The model predicted 1 class (diabetic) 64 times.\n",
    "Of the 64 times it predicted diabetic it was correct 47 times\n",
    "and incorrect 17 times. This implies that we have 47 true positives and 17 false positives.\n",
    "\n",
    "                 Predicted Nondiabetic  Predicted Diabetic\n",
    "    Actual Nondiabetic            TN                FP\n",
    "    Actual Diabetic               FN                TP\n",
    "\n",
    "\n",
    "\n",
    "Accuracy:  78%,\n",
    "\n",
    "Precision: 73%, \n",
    "\n",
    "True Positive Rate: 59%,\n",
    "\n",
    "True Negative Rate: 80%,\n",
    "\n",
    "False Positive Rate: 11%, \n",
    "\n",
    "Misclassification: 22%\n",
    "\n",
    "After fine tuning parameters we see a 2% decrease in accuracy, 5% increase in precision, 19% decrease in TP rate, 7% decrease in TN rate, 8% decrease in FP rate, and 2% increase in misclassification."
   ]
  },
  {
   "cell_type": "markdown",
   "metadata": {},
   "source": [
    "##### Parameter Tuned Min Max Scaled Second Degree Polynomial Kernel ROC Curve"
   ]
  },
  {
   "cell_type": "code",
   "execution_count": 50,
   "metadata": {},
   "outputs": [
    {
     "name": "stdout",
     "output_type": "stream",
     "text": [
      "AUC using predict_proba 0.8415562913907285\n"
     ]
    },
    {
     "data": {
      "text/plain": [
       "array([[0.62604184, 0.37395816],\n",
       "       [0.67977329, 0.32022671],\n",
       "       [0.03493265, 0.96506735],\n",
       "       [0.81218869, 0.18781131],\n",
       "       [0.83330988, 0.16669012],\n",
       "       [0.64196399, 0.35803601],\n",
       "       [0.30684138, 0.69315862],\n",
       "       [0.80110849, 0.19889151],\n",
       "       [0.76826956, 0.23173044],\n",
       "       [0.90677756, 0.09322244],\n",
       "       [0.34107444, 0.65892556],\n",
       "       [0.8278614 , 0.1721386 ],\n",
       "       [0.84796797, 0.15203203],\n",
       "       [0.78982903, 0.21017097],\n",
       "       [0.10706454, 0.89293546],\n",
       "       [0.88707034, 0.11292966],\n",
       "       [0.88131703, 0.11868297],\n",
       "       [0.15103162, 0.84896838],\n",
       "       [0.91783287, 0.08216713],\n",
       "       [0.86781179, 0.13218821],\n",
       "       [0.9094661 , 0.0905339 ],\n",
       "       [0.80528315, 0.19471685],\n",
       "       [0.45183488, 0.54816512],\n",
       "       [0.90459051, 0.09540949],\n",
       "       [0.84287083, 0.15712917],\n",
       "       [0.91152392, 0.08847608],\n",
       "       [0.5       , 0.5       ],\n",
       "       [0.79249446, 0.20750554],\n",
       "       [0.83450993, 0.16549007],\n",
       "       [0.92620673, 0.07379327],\n",
       "       [0.72700194, 0.27299806],\n",
       "       [0.8308774 , 0.1691226 ],\n",
       "       [0.44562932, 0.55437068],\n",
       "       [0.02511884, 0.97488116],\n",
       "       [0.87718287, 0.12281713],\n",
       "       [0.68171366, 0.31828634],\n",
       "       [0.58917737, 0.41082263],\n",
       "       [0.12990454, 0.87009546],\n",
       "       [0.17039561, 0.82960439],\n",
       "       [0.76523236, 0.23476764],\n",
       "       [0.85066279, 0.14933721],\n",
       "       [0.41486711, 0.58513289],\n",
       "       [0.78728134, 0.21271866],\n",
       "       [0.48409229, 0.51590771],\n",
       "       [0.14686202, 0.85313798],\n",
       "       [0.83111116, 0.16888884],\n",
       "       [0.5761032 , 0.4238968 ],\n",
       "       [0.92523473, 0.07476527],\n",
       "       [0.75826085, 0.24173915],\n",
       "       [0.03349054, 0.96650946],\n",
       "       [0.89799519, 0.10200481],\n",
       "       [0.76528804, 0.23471196],\n",
       "       [0.78211549, 0.21788451],\n",
       "       [0.5       , 0.5       ],\n",
       "       [0.84223471, 0.15776529],\n",
       "       [0.5       , 0.5       ],\n",
       "       [0.84359026, 0.15640974],\n",
       "       [0.8952223 , 0.1047777 ],\n",
       "       [0.4429662 , 0.5570338 ],\n",
       "       [0.76324076, 0.23675924],\n",
       "       [0.85605066, 0.14394934],\n",
       "       [0.26116611, 0.73883389],\n",
       "       [0.85639023, 0.14360977],\n",
       "       [0.45935036, 0.54064964],\n",
       "       [0.65511204, 0.34488796],\n",
       "       [0.69652326, 0.30347674],\n",
       "       [0.77643679, 0.22356321],\n",
       "       [0.06645293, 0.93354707],\n",
       "       [0.85088966, 0.14911034],\n",
       "       [0.88369086, 0.11630914],\n",
       "       [0.23912185, 0.76087815],\n",
       "       [0.78901333, 0.21098667],\n",
       "       [0.20881146, 0.79118854],\n",
       "       [0.70781514, 0.29218486],\n",
       "       [0.23636966, 0.76363034],\n",
       "       [0.66647697, 0.33352303],\n",
       "       [0.79503295, 0.20496705],\n",
       "       [0.61689561, 0.38310439],\n",
       "       [0.84873149, 0.15126851],\n",
       "       [0.55364358, 0.44635642],\n",
       "       [0.62403813, 0.37596187],\n",
       "       [0.87864317, 0.12135683],\n",
       "       [0.86711537, 0.13288463],\n",
       "       [0.36531847, 0.63468153],\n",
       "       [0.12618149, 0.87381851],\n",
       "       [0.88683687, 0.11316313],\n",
       "       [0.71676514, 0.28323486],\n",
       "       [0.88977211, 0.11022789],\n",
       "       [0.28109805, 0.71890195],\n",
       "       [0.87881379, 0.12118621],\n",
       "       [0.82628372, 0.17371628],\n",
       "       [0.2122486 , 0.7877514 ],\n",
       "       [0.20326753, 0.79673247],\n",
       "       [0.64764803, 0.35235197],\n",
       "       [0.8856743 , 0.1143257 ],\n",
       "       [0.64699763, 0.35300237],\n",
       "       [0.86998928, 0.13001072],\n",
       "       [0.81271117, 0.18728883],\n",
       "       [0.79072886, 0.20927114],\n",
       "       [0.85564121, 0.14435879],\n",
       "       [0.87177935, 0.12822065],\n",
       "       [0.04965038, 0.95034962],\n",
       "       [0.8936426 , 0.1063574 ],\n",
       "       [0.86502625, 0.13497375],\n",
       "       [0.8302317 , 0.1697683 ],\n",
       "       [0.00297611, 0.99702389],\n",
       "       [0.45154355, 0.54845645],\n",
       "       [0.53462937, 0.46537063],\n",
       "       [0.80961029, 0.19038971],\n",
       "       [0.8247069 , 0.1752931 ],\n",
       "       [0.73396723, 0.26603277],\n",
       "       [0.87846627, 0.12153373],\n",
       "       [0.85794212, 0.14205788],\n",
       "       [0.78695356, 0.21304644],\n",
       "       [0.73908706, 0.26091294],\n",
       "       [0.49096264, 0.50903736],\n",
       "       [0.34106088, 0.65893912],\n",
       "       [0.55794559, 0.44205441],\n",
       "       [0.78916735, 0.21083265],\n",
       "       [0.87234518, 0.12765482],\n",
       "       [0.7216604 , 0.2783396 ],\n",
       "       [0.78195392, 0.21804608],\n",
       "       [0.68972749, 0.31027251],\n",
       "       [0.48598447, 0.51401553],\n",
       "       [0.8435734 , 0.1564266 ],\n",
       "       [0.2395226 , 0.7604774 ],\n",
       "       [0.20367695, 0.79632305],\n",
       "       [0.45758634, 0.54241366],\n",
       "       [0.57538292, 0.42461708],\n",
       "       [0.09004678, 0.90995322],\n",
       "       [0.90195533, 0.09804467],\n",
       "       [0.66815067, 0.33184933],\n",
       "       [0.28177841, 0.71822159],\n",
       "       [0.8375409 , 0.1624591 ],\n",
       "       [0.86639429, 0.13360571],\n",
       "       [0.77586832, 0.22413168],\n",
       "       [0.31314898, 0.68685102],\n",
       "       [0.73018066, 0.26981934],\n",
       "       [0.01768487, 0.98231513],\n",
       "       [0.22560864, 0.77439136],\n",
       "       [0.32598284, 0.67401716],\n",
       "       [0.55501571, 0.44498429],\n",
       "       [0.75489634, 0.24510366],\n",
       "       [0.21829092, 0.78170908],\n",
       "       [0.68803476, 0.31196524],\n",
       "       [0.55420604, 0.44579396],\n",
       "       [0.91417653, 0.08582347],\n",
       "       [0.92864191, 0.07135809],\n",
       "       [0.02608607, 0.97391393],\n",
       "       [0.64975437, 0.35024563],\n",
       "       [0.63365183, 0.36634817],\n",
       "       [0.86127127, 0.13872873],\n",
       "       [0.8471347 , 0.1528653 ],\n",
       "       [0.84214142, 0.15785858],\n",
       "       [0.78347236, 0.21652764],\n",
       "       [0.68248816, 0.31751184],\n",
       "       [0.76140188, 0.23859812],\n",
       "       [0.7173138 , 0.2826862 ],\n",
       "       [0.8832933 , 0.1167067 ],\n",
       "       [0.08073324, 0.91926676],\n",
       "       [0.85722554, 0.14277446],\n",
       "       [0.25455727, 0.74544273],\n",
       "       [0.88885834, 0.11114166],\n",
       "       [0.04901492, 0.95098508],\n",
       "       [0.63191843, 0.36808157],\n",
       "       [0.60404171, 0.39595829],\n",
       "       [0.82055094, 0.17944906],\n",
       "       [0.68490255, 0.31509745],\n",
       "       [0.82577701, 0.17422299],\n",
       "       [0.7325512 , 0.2674488 ],\n",
       "       [0.63819286, 0.36180714],\n",
       "       [0.72546292, 0.27453708],\n",
       "       [0.65887176, 0.34112824],\n",
       "       [0.88875612, 0.11124388],\n",
       "       [0.66244788, 0.33755212],\n",
       "       [0.8285732 , 0.1714268 ],\n",
       "       [0.88803301, 0.11196699],\n",
       "       [0.83616232, 0.16383768],\n",
       "       [0.89991536, 0.10008464],\n",
       "       [0.68493133, 0.31506867],\n",
       "       [0.64751642, 0.35248358],\n",
       "       [0.60675944, 0.39324056],\n",
       "       [0.25685646, 0.74314354],\n",
       "       [0.60439276, 0.39560724],\n",
       "       [0.61390469, 0.38609531],\n",
       "       [0.84200408, 0.15799592],\n",
       "       [0.42972833, 0.57027167],\n",
       "       [0.84624998, 0.15375002],\n",
       "       [0.2932253 , 0.7067747 ],\n",
       "       [0.73157266, 0.26842734],\n",
       "       [0.15096663, 0.84903337],\n",
       "       [0.77584984, 0.22415016],\n",
       "       [0.80652009, 0.19347991],\n",
       "       [0.09472745, 0.90527255],\n",
       "       [0.60752659, 0.39247341],\n",
       "       [0.63307177, 0.36692823],\n",
       "       [0.06577243, 0.93422757],\n",
       "       [0.7607835 , 0.2392165 ],\n",
       "       [0.8356932 , 0.1643068 ],\n",
       "       [0.24648669, 0.75351331],\n",
       "       [0.85189501, 0.14810499],\n",
       "       [0.89948292, 0.10051708],\n",
       "       [0.89051134, 0.10948866],\n",
       "       [0.56947086, 0.43052914],\n",
       "       [0.87127272, 0.12872728],\n",
       "       [0.78514513, 0.21485487],\n",
       "       [0.89631534, 0.10368466],\n",
       "       [0.14868774, 0.85131226],\n",
       "       [0.77407891, 0.22592109],\n",
       "       [0.68914765, 0.31085235],\n",
       "       [0.65048438, 0.34951562],\n",
       "       [0.23861074, 0.76138926],\n",
       "       [0.87850214, 0.12149786],\n",
       "       [0.76459788, 0.23540212],\n",
       "       [0.8727998 , 0.1272002 ],\n",
       "       [0.37527772, 0.62472228],\n",
       "       [0.74480531, 0.25519469],\n",
       "       [0.25132633, 0.74867367],\n",
       "       [0.28295091, 0.71704909],\n",
       "       [0.80995156, 0.19004844],\n",
       "       [0.14114758, 0.85885242],\n",
       "       [0.84688389, 0.15311611],\n",
       "       [0.75147198, 0.24852802],\n",
       "       [0.92351566, 0.07648434],\n",
       "       [0.71338113, 0.28661887],\n",
       "       [0.57847076, 0.42152924],\n",
       "       [0.77052222, 0.22947778],\n",
       "       [0.24983434, 0.75016566],\n",
       "       [0.91862855, 0.08137145],\n",
       "       [0.21576347, 0.78423653],\n",
       "       [0.76216181, 0.23783819]])"
      ]
     },
     "execution_count": 50,
     "metadata": {},
     "output_type": "execute_result"
    }
   ],
   "source": [
    "probas_poly = test_svc_poly.fit(X_train_minmax_poly, y_train_poly).predict_proba(X_test_minmax_poly)\n",
    "fpr_poly, tpr_poly, thresholds = roc_curve(y_test_poly, probas_poly[:, 1])\n",
    "roc_auc_poly = auc(fpr_poly, tpr_poly)\n",
    "print (\"AUC using predict_proba\", roc_auc_poly)\n",
    "probas_poly"
   ]
  },
  {
   "cell_type": "markdown",
   "metadata": {},
   "source": [
    "### Third Degree Polynomial Kernel Model Preparation"
   ]
  },
  {
   "cell_type": "markdown",
   "metadata": {},
   "source": [
    "##### Third Degree Polynomial Kernel Test Train Split"
   ]
  },
  {
   "cell_type": "code",
   "execution_count": 51,
   "metadata": {},
   "outputs": [],
   "source": [
    "X_train_poly3, X_test_poly3, y_train_poly3, y_test_poly3 = train_test_split(X, y, test_size = 0.30)"
   ]
  },
  {
   "cell_type": "markdown",
   "metadata": {},
   "source": [
    "##### Third Degree Polynomial Kernel Imputation"
   ]
  },
  {
   "cell_type": "code",
   "execution_count": 52,
   "metadata": {},
   "outputs": [
    {
     "name": "stderr",
     "output_type": "stream",
     "text": [
      "/Users/patrickboada/anaconda/lib/python3.6/site-packages/pandas/core/generic.py:6288: SettingWithCopyWarning: \n",
      "A value is trying to be set on a copy of a slice from a DataFrame\n",
      "\n",
      "See the caveats in the documentation: http://pandas.pydata.org/pandas-docs/stable/user_guide/indexing.html#returning-a-view-versus-a-copy\n",
      "  self._update_inplace(new_data)\n"
     ]
    }
   ],
   "source": [
    "X_train_poly3['plas'].fillna(X_train_poly3.plas.median(),inplace=True)\n",
    "X_test_poly3['plas'].fillna(X_test_poly3.plas.median(),inplace=True)\n",
    "\n",
    "X_train_poly3['pres'].fillna(X_train_poly3.plas.median(),inplace=True)\n",
    "X_test_poly3['pres'].fillna(X_test_poly3.plas.median(),inplace=True)\n",
    "\n",
    "X_train_poly3['mass'].fillna(X_train_poly3.plas.median(),inplace=True)\n",
    "X_test_poly3['mass'].fillna(X_test_poly3.plas.median(),inplace=True)"
   ]
  },
  {
   "cell_type": "code",
   "execution_count": 53,
   "metadata": {},
   "outputs": [
    {
     "data": {
      "text/plain": [
       "preg    0\n",
       "plas    0\n",
       "pres    0\n",
       "mass    0\n",
       "pedi    0\n",
       "age     0\n",
       "dtype: int64"
      ]
     },
     "execution_count": 53,
     "metadata": {},
     "output_type": "execute_result"
    }
   ],
   "source": [
    "y_test_poly3.isna().sum()\n",
    "y_train_poly3.isna().sum()\n",
    "\n",
    "X_train_poly3.isna().sum()\n",
    "X_test_poly3.isna().sum()"
   ]
  },
  {
   "cell_type": "code",
   "execution_count": 54,
   "metadata": {},
   "outputs": [
    {
     "name": "stdout",
     "output_type": "stream",
     "text": [
      "<class 'pandas.core.frame.DataFrame'>\n",
      "Int64Index: 537 entries, 248 to 433\n",
      "Data columns (total 6 columns):\n",
      "preg    537 non-null int64\n",
      "plas    537 non-null float64\n",
      "pres    537 non-null float64\n",
      "mass    537 non-null float64\n",
      "pedi    537 non-null float64\n",
      "age     537 non-null int64\n",
      "dtypes: float64(4), int64(2)\n",
      "memory usage: 29.4 KB\n"
     ]
    }
   ],
   "source": [
    "X_train_poly3.info()"
   ]
  },
  {
   "cell_type": "code",
   "execution_count": 55,
   "metadata": {},
   "outputs": [
    {
     "name": "stdout",
     "output_type": "stream",
     "text": [
      "<class 'pandas.core.frame.DataFrame'>\n",
      "Int64Index: 231 entries, 596 to 47\n",
      "Data columns (total 6 columns):\n",
      "preg    231 non-null int64\n",
      "plas    231 non-null float64\n",
      "pres    231 non-null float64\n",
      "mass    231 non-null float64\n",
      "pedi    231 non-null float64\n",
      "age     231 non-null int64\n",
      "dtypes: float64(4), int64(2)\n",
      "memory usage: 12.6 KB\n"
     ]
    }
   ],
   "source": [
    "X_test_poly3.info()"
   ]
  },
  {
   "cell_type": "markdown",
   "metadata": {},
   "source": [
    "##### Third Degree Polynomial Kernel SVC  "
   ]
  },
  {
   "cell_type": "code",
   "execution_count": 56,
   "metadata": {},
   "outputs": [
    {
     "name": "stdout",
     "output_type": "stream",
     "text": [
      "SVC(C=1.0, cache_size=1000, class_weight=None, coef0=0.0,\n",
      "    decision_function_shape='ovr', degree=3, gamma='scale', kernel='poly',\n",
      "    max_iter=-1, probability=True, random_state=None, shrinking=True, tol=0.001,\n",
      "    verbose=False)\n",
      " Polynomial (3) Prediction accuracy:  0.7705627705627706\n",
      "[[132  15]\n",
      " [ 38  46]]\n"
     ]
    }
   ],
   "source": [
    "svc_poly3 = SVC(kernel='poly', degree = 3,  cache_size=1000, gamma = 'scale', probability = True)  \n",
    "print(svc_poly3)\n",
    "clf_poly3 = svc_poly3.fit(X_train_poly3, y_train_poly3)\n",
    "y_pred_poly3 = svc_poly3.predict(X_test_poly3)\n",
    "pTot_poly3 = accuracy_score(y_test_poly3, y_pred_poly3)\n",
    "print(\" Polynomial (3) Prediction accuracy: \", pTot_poly3)\n",
    "print(confusion_matrix(y_test_poly3, y_pred_poly3))"
   ]
  },
  {
   "cell_type": "markdown",
   "metadata": {},
   "source": [
    "##### Pickle Third Degree Polynomial SVM "
   ]
  },
  {
   "cell_type": "code",
   "execution_count": 71,
   "metadata": {},
   "outputs": [
    {
     "name": "stdout",
     "output_type": "stream",
     "text": [
      "SVC(C=1.0, cache_size=1000, class_weight=None, coef0=0.0,\n",
      "    decision_function_shape='ovr', degree=3, gamma='scale', kernel='poly',\n",
      "    max_iter=-1, probability=True, random_state=None, shrinking=True, tol=0.001,\n",
      "    verbose=False)\n",
      "Prediction accuracy:  0.7705627705627706\n",
      "[[132  15]\n",
      " [ 38  46]]\n"
     ]
    }
   ],
   "source": [
    "import pickle\n",
    "\n",
    "outfile_poly3= open('model_poly3.pkl','wb')\n",
    "pickle.dump(svc_poly3, outfile_poly3)\n",
    "outfile_poly3.close()\n",
    "\n",
    "\n",
    "infile_poly3 = open('model_poly3.pkl', 'rb')\n",
    "svc2_poly3 = pickle.load(infile_poly3)\n",
    "infile_poly3.close()\n",
    "\n",
    "\n",
    "print (svc2_poly3)\n",
    "y_pred_poly3 = svc2_poly3.predict(X_test_poly3)\n",
    "pTot_poly3 = accuracy_score(y_test_poly3, y_pred_poly3)\n",
    "print(\"Prediction accuracy: \",pTot_poly3)\n",
    "print(confusion_matrix(y_test_poly3, y_pred_poly3))"
   ]
  },
  {
   "cell_type": "markdown",
   "metadata": {},
   "source": [
    "##### Third Degree Polynomial Kernel SVC Confusion Matrix"
   ]
  },
  {
   "cell_type": "code",
   "execution_count": 58,
   "metadata": {},
   "outputs": [
    {
     "data": {
      "text/plain": [
       "array([[132,  15],\n",
       "       [ 38,  46]])"
      ]
     },
     "execution_count": 58,
     "metadata": {},
     "output_type": "execute_result"
    }
   ],
   "source": [
    "cm_poly3 = confusion_matrix(y_test_poly3, y_pred_poly3)\n",
    "cm_poly3"
   ]
  },
  {
   "cell_type": "markdown",
   "metadata": {},
   "source": [
    "##### Third Degree Polynomial Kernel SVC Classification Report"
   ]
  },
  {
   "cell_type": "code",
   "execution_count": 59,
   "metadata": {},
   "outputs": [
    {
     "name": "stdout",
     "output_type": "stream",
     "text": [
      "              precision    recall  f1-score   support\n",
      "\n",
      "           0       0.78      0.90      0.83       147\n",
      "           1       0.75      0.55      0.63        84\n",
      "\n",
      "    accuracy                           0.77       231\n",
      "   macro avg       0.77      0.72      0.73       231\n",
      "weighted avg       0.77      0.77      0.76       231\n",
      "\n"
     ]
    }
   ],
   "source": [
    "report_poly3 = classification_report(y_test_poly3, y_pred_poly3)\n",
    "print(report_poly3)"
   ]
  },
  {
   "cell_type": "markdown",
   "metadata": {},
   "source": [
    "The SVM ran a total of 231 predictions.\n",
    "\n",
    "The model predicted 0 class (nondiabetic) 170 times. \n",
    "Of the 170 times it predicted nondiabetic it was correct 132 times, and incorrect 38 times. This implies that we have 132 true negatives and 38 false negatives.  \n",
    "\n",
    "The model predicted 1 class (diabetic) 61 times.\n",
    "Of the 61 times it predicted diabetic it was correct 46 times\n",
    "and incorrect 15 times. This implies that we have 46 true positives and 15 false positives.\n",
    "\n",
    "                 Predicted Nondiabetic  Predicted Diabetic\n",
    "    Actual Nondiabetic            TN                FP\n",
    "    Actual Diabetic               FN                TP\n",
    "\n",
    "\n",
    "Accuracy:  77%,\n",
    "\n",
    "Precision: 75%, \n",
    "\n",
    "True Positive Rate: 55%,\n",
    "\n",
    "True Negative Rate: 78%, \n",
    "\n",
    "False Positive Rate: 10%,\n",
    "\n",
    "Misclassification: 23%"
   ]
  },
  {
   "cell_type": "markdown",
   "metadata": {},
   "source": [
    "##### Third Degree Polynomial Kernel SVC Data Min Max Scaling"
   ]
  },
  {
   "cell_type": "code",
   "execution_count": 60,
   "metadata": {},
   "outputs": [
    {
     "name": "stdout",
     "output_type": "stream",
     "text": [
      "     preg   plas   pres  mass   pedi  age\n",
      "596     0   67.0   76.0  45.3  0.194   46\n",
      "365     5   99.0   54.0  34.0  0.499   30\n",
      "477     7  114.0   76.0  23.8  0.466   31\n",
      "530     2  122.0   60.0  29.8  0.717   22\n",
      "362     5  103.0  108.0  39.2  0.305   65\n",
      "..    ...    ...    ...   ...    ...  ...\n",
      "475     0  137.0   84.0  27.3  0.231   59\n",
      "399     3  193.0   70.0  34.9  0.241   25\n",
      "317     3  182.0   74.0  30.5  0.345   29\n",
      "521     3  124.0   80.0  33.2  0.305   26\n",
      "47      2   71.0   70.0  28.0  0.586   22\n",
      "\n",
      "[231 rows x 6 columns]\n"
     ]
    },
    {
     "data": {
      "text/plain": [
       "array([[0.        , 0.14935065, 0.5       , 0.2742915 , 0.04953032,\n",
       "        0.51020408],\n",
       "       [0.35714286, 0.35714286, 0.26086957, 0.15991903, 0.17976089,\n",
       "        0.18367347],\n",
       "       [0.5       , 0.45454545, 0.5       , 0.05668016, 0.16567037,\n",
       "        0.20408163],\n",
       "       ...,\n",
       "       [0.21428571, 0.8961039 , 0.47826087, 0.12449393, 0.11400512,\n",
       "        0.16326531],\n",
       "       [0.21428571, 0.51948052, 0.54347826, 0.15182186, 0.0969257 ,\n",
       "        0.10204082],\n",
       "       [0.14285714, 0.17532468, 0.43478261, 0.09919028, 0.21690863,\n",
       "        0.02040816]])"
      ]
     },
     "execution_count": 60,
     "metadata": {},
     "output_type": "execute_result"
    }
   ],
   "source": [
    "print(X_test_poly3)\n",
    "min_max_scaler_poly3 = MinMaxScaler()\n",
    "X_train_minmax_poly3 = min_max_scaler_poly3.fit_transform(X_train_poly3)\n",
    "X_test_minmax_poly3 = min_max_scaler_poly3.transform(X_test_poly3)\n",
    "X_test_minmax_poly3"
   ]
  },
  {
   "cell_type": "markdown",
   "metadata": {},
   "source": [
    "##### Min Max Scaled Third Degree Polynomial Kernel SVC "
   ]
  },
  {
   "cell_type": "code",
   "execution_count": 61,
   "metadata": {},
   "outputs": [
    {
     "name": "stdout",
     "output_type": "stream",
     "text": [
      "SVC(C=1.0, cache_size=1000, class_weight='balanced', coef0=0.0,\n",
      "    decision_function_shape='ovr', degree=3, gamma='scale', kernel='poly',\n",
      "    max_iter=-1, probability=True, random_state=None, shrinking=True, tol=0.001,\n",
      "    verbose=False)\n",
      "Prediction accuracy:  0.7575757575757576\n"
     ]
    }
   ],
   "source": [
    "svc_poly3MMS = SVC(kernel='poly', degree = 3, gamma = 'scale', class_weight='balanced', cache_size=1000, probability=True) \n",
    "print(svc_poly3MMS)\n",
    "clf_poly3MMS = svc_poly3MMS.fit(X_train_minmax_poly3, y_train_poly3)\n",
    "y_pred_minmax_poly3 = svc_poly3MMS.predict(X_test_minmax_poly3) \n",
    "pTot_poly3MMS = accuracy_score(y_test_poly3, y_pred_minmax_poly3)\n",
    "print(\"Prediction accuracy: \",pTot_poly3MMS)"
   ]
  },
  {
   "cell_type": "markdown",
   "metadata": {},
   "source": [
    "##### Min Max Scaled Third Degree Polynomial Kernel Confusion Matrix "
   ]
  },
  {
   "cell_type": "code",
   "execution_count": 62,
   "metadata": {
    "scrolled": true
   },
   "outputs": [
    {
     "name": "stdout",
     "output_type": "stream",
     "text": [
      "[[120  27]\n",
      " [ 29  55]]\n",
      "              precision    recall  f1-score   support\n",
      "\n",
      "           0       0.81      0.82      0.81       147\n",
      "           1       0.67      0.65      0.66        84\n",
      "\n",
      "    accuracy                           0.76       231\n",
      "   macro avg       0.74      0.74      0.74       231\n",
      "weighted avg       0.76      0.76      0.76       231\n",
      "\n"
     ]
    }
   ],
   "source": [
    "cm_poly3MMS = confusion_matrix(y_test_poly3, y_pred_minmax_poly3)\n",
    "print(cm_poly3MMS)\n",
    "report_poly3MMS = classification_report(y_test_poly3, y_pred_minmax_poly3)\n",
    "print(report_poly3MMS)"
   ]
  },
  {
   "cell_type": "markdown",
   "metadata": {},
   "source": [
    "##### Min Max Scaled Third Degree Polynomial Kernel Classification Report"
   ]
  },
  {
   "cell_type": "markdown",
   "metadata": {},
   "source": [
    "The SVM ran a total of 231 predictions.\n",
    "\n",
    "The model predicted 0 class (nondiabetic) 149 times. \n",
    "Of the 149 times it predicted nondiabetic it was correct 120 times, and incorrect 29 times. This implies that we have 120 true negatives and 29 false negatives.  \n",
    "\n",
    "The model predicted 1 class (diabetic) 82 times.\n",
    "Of the 82 times it predicted diabetic it was correct 55 times\n",
    "and incorrect 27 times. This implies that we have 55 true positives and 27 false positives.\n",
    "\n",
    "                 Predicted Nondiabetic  Predicted Diabetic\n",
    "    Actual Nondiabetic            TN                FP\n",
    "    Actual Diabetic               FN                TP\n",
    "\n",
    "Accuracy:  76%, \n",
    "\n",
    "Precision: 67%, \n",
    "\n",
    "True Positive Rate: 66%, \n",
    "\n",
    "True Negative Rate: 81%, \n",
    "\n",
    "False Positive Rate: 18%, \n",
    "\n",
    "Misclassification: 24%\n",
    "\n",
    "After min max scaling, we see 1% decrease in accuracy, 8% decrease in precision, 11% increase in TP rate, 3% increase in TN rate, 8% increase in FP rate and 1% increase in misclassification."
   ]
  },
  {
   "cell_type": "markdown",
   "metadata": {},
   "source": [
    "##### Min Max Scaled Third Degree Polynomial Kernel ROC Curve "
   ]
  },
  {
   "cell_type": "code",
   "execution_count": 63,
   "metadata": {},
   "outputs": [
    {
     "name": "stdout",
     "output_type": "stream",
     "text": [
      "thresholds [1.99998204 0.99998204 0.99275879 0.97063061 0.96995446 0.93111253\n",
      " 0.92718867 0.67804987 0.66464224 0.60031968 0.54736936 0.54639999\n",
      " 0.54506631 0.53720273 0.53172774 0.52797032 0.5        0.4925753\n",
      " 0.48663628 0.4839177  0.4738785  0.45535617 0.44266671 0.4185001\n",
      " 0.41260616 0.39968564 0.39663072 0.39437375 0.37367305 0.36293813\n",
      " 0.3559997  0.34743209 0.34118708 0.33696111 0.3301222  0.31913528\n",
      " 0.3151759  0.31213082 0.30635685 0.30352807 0.29409785 0.29402153\n",
      " 0.2939154  0.29174357 0.28884884 0.28799754 0.27769695 0.27473166\n",
      " 0.2696255  0.26878622 0.25408336 0.25209995 0.25009875 0.24998026\n",
      " 0.24107705 0.23908188 0.23565258 0.23201041 0.22686404 0.22589165\n",
      " 0.22494388 0.2220357  0.21609621 0.2155696  0.21394309 0.21344329\n",
      " 0.20770651 0.20768834 0.19490802 0.19431474 0.17509656 0.17368384\n",
      " 0.14603497 0.13739087 0.10954984 0.10095972 0.02417349]\n",
      "probas_ [[8.82724298e-01 1.17275702e-01]\n",
      " [7.37117670e-01 2.62882330e-01]\n",
      " [7.45534246e-01 2.54465754e-01]\n",
      " [7.81447974e-01 2.18552026e-01]\n",
      " [9.02704747e-01 9.72952526e-02]\n",
      " [2.73198028e-01 7.26801972e-01]\n",
      " [5.11119760e-01 4.88880240e-01]\n",
      " [7.58922947e-01 2.41077053e-01]\n",
      " [7.28113290e-02 9.27188671e-01]\n",
      " [7.47900046e-01 2.52099954e-01]\n",
      " [8.14700355e-01 1.85299645e-01]\n",
      " [7.05311522e-01 2.94688478e-01]\n",
      " [7.04142831e-01 2.95857169e-01]\n",
      " [6.25572739e-01 3.74427261e-01]\n",
      " [8.43498961e-01 1.56501039e-01]\n",
      " [7.22279475e-01 2.77720525e-01]\n",
      " [7.73135956e-01 2.26864044e-01]\n",
      " [7.95476244e-01 2.04523756e-01]\n",
      " [8.39710633e-01 1.60289367e-01]\n",
      " [6.69877797e-01 3.30122203e-01]\n",
      " [7.72797889e-01 2.27202111e-01]\n",
      " [7.84430398e-01 2.15569602e-01]\n",
      " [5.00000000e-01 5.00000000e-01]\n",
      " [7.71960368e-01 2.28039632e-01]\n",
      " [6.88874740e-02 9.31112526e-01]\n",
      " [8.52857418e-01 1.47142582e-01]\n",
      " [7.13367599e-01 2.86632401e-01]\n",
      " [7.15219270e-01 2.84780730e-01]\n",
      " [7.77964305e-01 2.22035695e-01]\n",
      " [8.19582365e-01 1.80417635e-01]\n",
      " [3.99680321e-01 6.00319679e-01]\n",
      " [5.57333288e-01 4.42666712e-01]\n",
      " [8.36551051e-01 1.63448949e-01]\n",
      " [7.89883124e-01 2.10116876e-01]\n",
      " [6.26326950e-01 3.73673050e-01]\n",
      " [1.80887730e-01 8.19112270e-01]\n",
      " [6.80864720e-01 3.19135280e-01]\n",
      " [7.22050084e-01 2.77949916e-01]\n",
      " [7.06084598e-01 2.93915402e-01]\n",
      " [8.38640534e-01 1.61359466e-01]\n",
      " [7.95006237e-01 2.04993763e-01]\n",
      " [8.48847212e-01 1.51152788e-01]\n",
      " [1.22706129e-01 8.77293871e-01]\n",
      " [7.62320705e-01 2.37679295e-01]\n",
      " [7.08256428e-01 2.91743572e-01]\n",
      " [8.52780540e-01 1.47219460e-01]\n",
      " [7.29690642e-02 9.27030936e-01]\n",
      " [7.99901491e-01 2.00098509e-01]\n",
      " [8.40163415e-01 1.59836585e-01]\n",
      " [7.31928363e-01 2.68071637e-01]\n",
      " [8.04956595e-01 1.95043405e-01]\n",
      " [8.05685262e-01 1.94314738e-01]\n",
      " [2.69452701e-01 7.30547299e-01]\n",
      " [2.66580282e-01 7.33419718e-01]\n",
      " [8.24903436e-01 1.75096564e-01]\n",
      " [1.25917794e-01 8.74082206e-01]\n",
      " [7.13747034e-01 2.86252966e-01]\n",
      " [3.70940154e-01 6.29059846e-01]\n",
      " [8.21310407e-01 1.78689593e-01]\n",
      " [7.86056905e-01 2.13943095e-01]\n",
      " [8.62609128e-01 1.37390872e-01]\n",
      " [7.12002456e-01 2.87997544e-01]\n",
      " [8.22176681e-01 1.77823319e-01]\n",
      " [3.92559056e-01 6.07440944e-01]\n",
      " [7.74108347e-01 2.25891653e-01]\n",
      " [9.84285811e-02 9.01571419e-01]\n",
      " [7.67989590e-01 2.32010410e-01]\n",
      " [8.22127625e-01 1.77872375e-01]\n",
      " [7.93519769e-01 2.06480231e-01]\n",
      " [5.16082305e-01 4.83917695e-01]\n",
      " [1.66040598e-01 8.33959402e-01]\n",
      " [4.43899232e-01 5.56100768e-01]\n",
      " [7.96854319e-01 2.03145681e-01]\n",
      " [3.84777745e-01 6.15222255e-01]\n",
      " [5.87393838e-01 4.12606162e-01]\n",
      " [4.62797269e-01 5.37202731e-01]\n",
      " [8.54047025e-01 1.45952975e-01]\n",
      " [7.34808099e-01 2.65191901e-01]\n",
      " [7.32180786e-01 2.67819214e-01]\n",
      " [7.92681245e-01 2.07318755e-01]\n",
      " [7.61456520e-01 2.38543480e-01]\n",
      " [3.02764049e-01 6.97235951e-01]\n",
      " [1.37323516e-01 8.62676484e-01]\n",
      " [2.79259117e-01 7.20740883e-01]\n",
      " [8.30799197e-01 1.69200803e-01]\n",
      " [7.96508765e-01 2.03491235e-01]\n",
      " [7.95219911e-01 2.04780089e-01]\n",
      " [5.13363718e-01 4.86636282e-01]\n",
      " [8.47569343e-01 1.52430657e-01]\n",
      " [3.00455364e-02 9.69954464e-01]\n",
      " [8.53965031e-01 1.46034969e-01]\n",
      " [7.24120775e-03 9.92758792e-01]\n",
      " [8.38407115e-01 1.61592885e-01]\n",
      " [7.75056121e-01 2.24943879e-01]\n",
      " [3.80816092e-01 6.19183908e-01]\n",
      " [7.97812282e-01 2.02187718e-01]\n",
      " [2.01292734e-01 7.98707266e-01]\n",
      " [9.40587105e-01 5.94128947e-02]\n",
      " [8.77479931e-01 1.22520069e-01]\n",
      " [9.47432864e-02 9.05256714e-01]\n",
      " [2.93693919e-02 9.70630608e-01]\n",
      " [8.90224592e-01 1.09775408e-01]\n",
      " [2.13876116e-01 7.86123884e-01]\n",
      " [6.14706245e-01 3.85293755e-01]\n",
      " [7.88329956e-01 2.11670044e-01]\n",
      " [8.05091977e-01 1.94908023e-01]\n",
      " [7.50019737e-01 2.49980263e-01]\n",
      " [6.42894448e-01 3.57105552e-01]\n",
      " [8.26316157e-01 1.73683843e-01]\n",
      " [5.44643826e-01 4.55356174e-01]\n",
      " [7.82225422e-01 2.17774578e-01]\n",
      " [5.53878729e-01 4.46121271e-01]\n",
      " [8.30263940e-01 1.69736060e-01]\n",
      " [7.11751142e-01 2.88248858e-01]\n",
      " [7.20327179e-01 2.79672821e-01]\n",
      " [5.53047487e-01 4.46952513e-01]\n",
      " [8.09099467e-01 1.90900533e-01]\n",
      " [7.39915339e-01 2.60084661e-01]\n",
      " [7.05902151e-01 2.94097849e-01]\n",
      " [7.22303047e-01 2.77696953e-01]\n",
      " [6.84824102e-01 3.15175898e-01]\n",
      " [3.10010731e-01 6.89989269e-01]\n",
      " [6.60238312e-01 3.39761688e-01]\n",
      " [5.00000000e-01 5.00000000e-01]\n",
      " [8.36292046e-01 1.63707954e-01]\n",
      " [4.53600015e-01 5.46399985e-01]\n",
      " [1.42301997e-01 8.57698003e-01]\n",
      " [7.60918118e-01 2.39081882e-01]\n",
      " [8.99040279e-01 1.00959721e-01]\n",
      " [3.22696606e-01 6.77303394e-01]\n",
      " [7.45916644e-01 2.54083356e-01]\n",
      " [3.66737882e-01 6.33262118e-01]\n",
      " [7.92311659e-01 2.07688341e-01]\n",
      " [7.20300455e-01 2.79699545e-01]\n",
      " [3.37908817e-01 6.62091183e-01]\n",
      " [1.79637280e-05 9.99982036e-01]\n",
      " [7.52988140e-01 2.47011860e-01]\n",
      " [7.72965581e-01 2.27034419e-01]\n",
      " [6.90624065e-01 3.09375935e-01]\n",
      " [7.48962143e-01 2.51037857e-01]\n",
      " [4.54933690e-01 5.45066310e-01]\n",
      " [8.49206961e-01 1.50793039e-01]\n",
      " [8.17723829e-01 1.82276171e-01]\n",
      " [4.68272265e-01 5.31727735e-01]\n",
      " [5.56005372e-03 9.94439946e-01]\n",
      " [7.72150356e-01 2.27849644e-01]\n",
      " [6.96471934e-01 3.03528066e-01]\n",
      " [8.14902308e-01 1.85097692e-01]\n",
      " [7.64347424e-01 2.35652576e-01]\n",
      " [7.61138921e-01 2.38861079e-01]\n",
      " [6.58812920e-01 3.41187080e-01]\n",
      " [8.29832899e-02 9.17016710e-01]\n",
      " [8.38506405e-01 1.61493595e-01]\n",
      " [3.21950132e-01 6.78049868e-01]\n",
      " [6.72262819e-01 3.27737181e-01]\n",
      " [3.73704728e-01 6.26295272e-01]\n",
      " [7.65867631e-01 2.34132369e-01]\n",
      " [5.00000000e-01 5.00000000e-01]\n",
      " [1.12501728e-01 8.87498272e-01]\n",
      " [8.33943929e-01 1.66056071e-01]\n",
      " [5.81499904e-01 4.18500096e-01]\n",
      " [6.37061872e-01 3.62938128e-01]\n",
      " [9.74577579e-01 2.54224209e-02]\n",
      " [8.07063116e-01 1.92936884e-01]\n",
      " [7.11151163e-01 2.88848837e-01]\n",
      " [7.86556711e-01 2.13443289e-01]\n",
      " [5.26121498e-01 4.73878502e-01]\n",
      " [7.31213777e-01 2.68786223e-01]\n",
      " [8.35848719e-01 1.64151281e-01]\n",
      " [8.90450159e-01 1.09549841e-01]\n",
      " [6.03369277e-01 3.96630723e-01]\n",
      " [7.66652721e-01 2.33347279e-01]\n",
      " [5.20757674e-03 9.94792423e-01]\n",
      " [8.12405411e-01 1.87594589e-01]\n",
      " [6.94634904e-01 3.05365096e-01]\n",
      " [8.29104158e-01 1.70895842e-01]\n",
      " [1.51414687e-01 8.48585313e-01]\n",
      " [2.85503369e-01 7.14496631e-01]\n",
      " [7.83903795e-01 2.16096205e-01]\n",
      " [7.92293488e-01 2.07706512e-01]\n",
      " [8.36053343e-01 1.63946657e-01]\n",
      " [6.87869177e-01 3.12130823e-01]\n",
      " [7.49901250e-01 2.50098750e-01]\n",
      " [9.58759326e-01 4.12406745e-02]\n",
      " [7.92412698e-01 2.07587302e-01]\n",
      " [2.94717502e-01 7.05282498e-01]\n",
      " [3.35357764e-01 6.64642236e-01]\n",
      " [6.44000303e-01 3.55999697e-01]\n",
      " [6.00314358e-01 3.99685642e-01]\n",
      " [3.88849438e-02 9.61115056e-01]\n",
      " [5.62553985e-02 9.43744601e-01]\n",
      " [7.93711786e-01 2.06288214e-01]\n",
      " [6.05626252e-01 3.94373748e-01]\n",
      " [8.05867483e-01 1.94132517e-01]\n",
      " [8.31540376e-01 1.68459624e-01]\n",
      " [1.44843935e-01 8.55156065e-01]\n",
      " [5.88187713e-01 4.11812287e-01]\n",
      " [8.26343247e-01 1.73656753e-01]\n",
      " [7.05978470e-01 2.94021530e-01]\n",
      " [8.50601962e-01 1.49398038e-01]\n",
      " [7.16133943e-01 2.83866057e-01]\n",
      " [8.34635977e-01 1.65364023e-01]\n",
      " [7.25268342e-01 2.74731658e-01]\n",
      " [6.63038888e-01 3.36961112e-01]\n",
      " [7.98743611e-01 2.01256389e-01]\n",
      " [6.81550348e-01 3.18449652e-01]\n",
      " [7.56230530e-01 2.43769470e-01]\n",
      " [6.93643151e-01 3.06356849e-01]\n",
      " [3.41380692e-02 9.65861931e-01]\n",
      " [4.05765365e-01 5.94234635e-01]\n",
      " [7.92245524e-01 2.07754476e-01]\n",
      " [8.72350509e-01 1.27649491e-01]\n",
      " [8.20919229e-01 1.79080771e-01]\n",
      " [7.80849877e-01 2.19150123e-01]\n",
      " [6.52567910e-01 3.47432090e-01]\n",
      " [5.07424702e-01 4.92575298e-01]\n",
      " [4.72029677e-01 5.27970323e-01]\n",
      " [5.56777062e-01 4.43222938e-01]\n",
      " [8.22221896e-01 1.77778104e-01]\n",
      " [7.96722671e-01 2.03277329e-01]\n",
      " [7.44189972e-01 2.55810028e-01]\n",
      " [8.32215737e-01 1.67784263e-01]\n",
      " [5.96021109e-01 4.03978891e-01]\n",
      " [7.62387963e-01 2.37612037e-01]\n",
      " [7.56406011e-01 2.43593989e-01]\n",
      " [9.75826514e-01 2.41734856e-02]\n",
      " [4.52630640e-01 5.47369360e-01]\n",
      " [3.70961440e-01 6.29038560e-01]\n",
      " [4.56396047e-01 5.43603953e-01]\n",
      " [7.30374501e-01 2.69625499e-01]\n",
      " [8.33571306e-01 1.66428694e-01]]\n",
      "AUC using predict_proba 0.8129251700680271\n"
     ]
    }
   ],
   "source": [
    "probas_poly3MMS = svc_poly3MMS.fit(X_train_minmax_poly3, y_train_poly3).predict_proba(X_test_minmax_poly3)\n",
    "fpr_poly3, tpr_poly3, thresholds_poly3 = roc_curve(y_test_poly3, probas_poly3MMS[:, 1])\n",
    "roc_auc_poly3MMS = auc(fpr_poly3, tpr_poly3)\n",
    "print (\"thresholds\", thresholds_poly3)\n",
    "print (\"probas_\", probas_poly3MMS)\n",
    "print (\"AUC using predict_proba\", roc_auc_poly3MMS)"
   ]
  },
  {
   "cell_type": "code",
   "execution_count": 64,
   "metadata": {},
   "outputs": [
    {
     "data": {
      "image/png": "[encoded data removed]",
      "text/plain": [
       "<Figure size 432x288 with 1 Axes>"
      ]
     },
     "metadata": {
      "needs_background": "light"
     },
     "output_type": "display_data"
    }
   ],
   "source": [
    "plt.figure()\n",
    "plt.plot(fpr_poly3, tpr_poly3, label='ROC curve (area = %0.2f)' % roc_auc_poly3MMS, lw=3, color =\"#0000ff\", marker='s',markerfacecolor=\"red\", markersize=2) \n",
    "plt.plot([0, 1], [0, 1], 'k--') # also plot black dashed line (k=black) from (0,0) to (1,1)\n",
    "# Set x and y ranges, labels, title and legend\n",
    "plt.xlim([-0.005, 1.0])  #x range basically from 0 to 1: start range a bit to left of min x value to see thick line better\n",
    "plt.ylim([0.0, 1.005])   #0 range basically from 0 to 1: extend range a bit above max y value to see thick line better\n",
    "plt.xlabel('False Positive Rate')\n",
    "plt.ylabel('True Positive Rate')\n",
    "plt.title('Receiver operating characteristic example')\n",
    "plt.legend(loc=\"lower right\")\n",
    "plt.show()"
   ]
  },
  {
   "cell_type": "code",
   "execution_count": 65,
   "metadata": {},
   "outputs": [
    {
     "name": "stdout",
     "output_type": "stream",
     "text": [
      "[0.01, 0.1, 1, 'auto', 10, 100]\n"
     ]
    },
    {
     "data": {
      "text/plain": [
       "{'gamma': [0.01, 0.1, 1, 'auto', 10, 100],\n",
       " 'C': array([1.e-02, 1.e-01, 1.e+00, 1.e+01, 1.e+02, 1.e+03])}"
      ]
     },
     "execution_count": 65,
     "metadata": {},
     "output_type": "execute_result"
    }
   ],
   "source": [
    "C_range_poly3 = 10.0 ** np.arange(-2, 4)\n",
    "gamma_range_poly3 = [.01, .1, 1, 'auto', 10, 100]\n",
    "print(gamma_range_poly3)\n",
    "param_grid_poly3 = dict(gamma=gamma_range_poly3, C=C_range_poly3)\n",
    "param_grid_poly3"
   ]
  },
  {
   "cell_type": "markdown",
   "metadata": {},
   "source": [
    "##### Min Max Scaled Third Degree Polynomial Kernel Grid Search Parameter Fine Tuning"
   ]
  },
  {
   "cell_type": "code",
   "execution_count": 66,
   "metadata": {},
   "outputs": [
    {
     "name": "stdout",
     "output_type": "stream",
     "text": [
      "(100.0, 'auto')\n"
     ]
    },
    {
     "data": {
      "text/plain": [
       "SVC(C=100.0, cache_size=1000, class_weight=None, coef0=0.0,\n",
       "    decision_function_shape='ovr', degree=3, gamma='auto', kernel='poly',\n",
       "    max_iter=-1, probability=False, random_state=None, shrinking=True,\n",
       "    tol=0.001, verbose=False)"
      ]
     },
     "execution_count": 66,
     "metadata": {},
     "output_type": "execute_result"
    }
   ],
   "source": [
    "grid_poly3 = GridSearchCV(SVC(kernel='poly', degree = 3, cache_size=1000, probability=False), param_grid=param_grid_poly3, cv =3)  \n",
    "grid_poly3.fit(X_train_minmax_poly3, y_train_poly3)\n",
    "best_C_poly3 = grid_poly3.best_estimator_.C\n",
    "best_gamma_poly3 = grid_poly3.best_estimator_.gamma\n",
    "print((best_C_poly3, best_gamma_poly3))\n",
    "grid_poly3.best_estimator_"
   ]
  },
  {
   "cell_type": "markdown",
   "metadata": {},
   "source": [
    "The third degree polynomial grid search may take hours to process. Remove numeric truncation in case auto is rendered.\n",
    "\n",
    "C=100.0, gamma = auto"
   ]
  },
  {
   "cell_type": "code",
   "execution_count": 67,
   "metadata": {},
   "outputs": [
    {
     "name": "stdout",
     "output_type": "stream",
     "text": [
      "Prediction accuracy:  0.7792207792207793\n",
      "[[135  12]\n",
      " [ 39  45]]\n",
      "              precision    recall  f1-score   support\n",
      "\n",
      "           0       0.78      0.92      0.84       147\n",
      "           1       0.79      0.54      0.64        84\n",
      "\n",
      "    accuracy                           0.78       231\n",
      "   macro avg       0.78      0.73      0.74       231\n",
      "weighted avg       0.78      0.78      0.77       231\n",
      "\n"
     ]
    }
   ],
   "source": [
    "best_predict_minmax_poly3 = grid_poly3.best_estimator_.predict(X_test_minmax_poly3)\n",
    "pTot_poly3 = accuracy_score(y_test_poly3, best_predict_minmax_poly3)\n",
    "print(\"Prediction accuracy: \",pTot_poly3)\n",
    "cmp_poly3 = confusion_matrix(y_test_poly3, best_predict_minmax_poly3)\n",
    "print(cmp_poly3)\n",
    "report_poly3 = classification_report(y_test_poly3, best_predict_minmax_poly3)\n",
    "print(report_poly3)"
   ]
  },
  {
   "cell_type": "markdown",
   "metadata": {},
   "source": [
    "##### Parameter Tuned Min Max Scaled Third Degree Polynomial Kernel SVC"
   ]
  },
  {
   "cell_type": "code",
   "execution_count": 68,
   "metadata": {},
   "outputs": [
    {
     "name": "stdout",
     "output_type": "stream",
     "text": [
      "Prediction accuracy:  0.7792207792207793\n"
     ]
    }
   ],
   "source": [
    "test_svc_poly3 = SVC(C=100, gamma='auto',kernel='poly', degree = 3, cache_size=1000, probability=True) \n",
    "clf_test_poly3 = test_svc_poly3.fit(X_train_minmax_poly3, y_train_poly3) # trains the classifier on the training set\n",
    "y_pred_minmax_test_poly3 = test_svc_poly3.predict(X_test_minmax_poly3) # tests the classifier on the test set\n",
    "pTot_poly3 = accuracy_score(y_test_poly3, y_pred_minmax_test_poly3)\n",
    "print (\"Prediction accuracy: \",pTot_poly3)"
   ]
  },
  {
   "cell_type": "markdown",
   "metadata": {},
   "source": [
    "##### Parameter Tuned Min Max Scaled Third Degree Polynomial Kernel Confusion Matrix "
   ]
  },
  {
   "cell_type": "code",
   "execution_count": 69,
   "metadata": {},
   "outputs": [
    {
     "name": "stdout",
     "output_type": "stream",
     "text": [
      "[[135  12]\n",
      " [ 39  45]]\n",
      "              precision    recall  f1-score   support\n",
      "\n",
      "           0       0.78      0.92      0.84       147\n",
      "           1       0.79      0.54      0.64        84\n",
      "\n",
      "    accuracy                           0.78       231\n",
      "   macro avg       0.78      0.73      0.74       231\n",
      "weighted avg       0.78      0.78      0.77       231\n",
      "\n"
     ]
    }
   ],
   "source": [
    "cm_poly3 = confusion_matrix(y_test_poly3, y_pred_minmax_test_poly3)\n",
    "print(cm_poly3)\n",
    "report_poly3 = classification_report(y_test_poly3, y_pred_minmax_test_poly3)\n",
    "print (report_poly3)"
   ]
  },
  {
   "cell_type": "markdown",
   "metadata": {},
   "source": [
    "##### Parameter Tuned Min Max Scaled Third Degree Polynomial Kernel Classification Report"
   ]
  },
  {
   "cell_type": "markdown",
   "metadata": {},
   "source": [
    "The SVM ran a total of 231 predictions.\n",
    "\n",
    "The model predicted 0 class (nondiabetic) 174 times. \n",
    "Of the 174 times it predicted nondiabetic it was correct 135 times, and incorrect 39 times. This implies that we have 135 true negatives and 39 false negatives.  \n",
    "\n",
    "The model predicted 1 class (diabetic) 57 times.\n",
    "Of the 57 times it predicted diabetic it was correct 45 times\n",
    "and incorrect 12 times. This implies that we have 45 true positives and 12 false positives.\n",
    "\n",
    "                 Predicted Nondiabetic  Predicted Diabetic\n",
    "    Actual Nondiabetic            TN                FP\n",
    "    Actual Diabetic               FN                TP\n",
    "\n",
    "\n",
    "\n",
    "Accuracy:  78%,\n",
    "\n",
    "Precision: 79%, \n",
    "\n",
    "True Positive Rate: 54%,\n",
    "\n",
    "True Negative Rate: 78%, \n",
    "\n",
    "False Positive Rate: 8%, \n",
    "\n",
    "Misclassification: 22%\n",
    "\n",
    "\n",
    "After adjusting,  we can see 2% increase in accuracy, 12%  increase in precision, 12% decrease in TP rate, 3% decrease in TN rate, 10% decrease in FP rate, and 2% decrease in misclassification.\n",
    "\n",
    "Precision and Accuracy increased however TP & TN rates decreased"
   ]
  },
  {
   "cell_type": "markdown",
   "metadata": {},
   "source": [
    "##### Parameter Tuned Min Max Scaled Third Degree Polynomial Kernel ROC Curve"
   ]
  },
  {
   "cell_type": "code",
   "execution_count": 70,
   "metadata": {},
   "outputs": [
    {
     "name": "stdout",
     "output_type": "stream",
     "text": [
      "AUC using predict_proba 0.8334548104956269\n"
     ]
    },
    {
     "data": {
      "text/plain": [
       "array([[0.88188901, 0.11811099],\n",
       "       [0.80213176, 0.19786824],\n",
       "       [0.74057667, 0.25942333],\n",
       "       [0.78866213, 0.21133787],\n",
       "       [0.84646005, 0.15353995],\n",
       "       [0.18657153, 0.81342847],\n",
       "       [0.50551287, 0.49448713],\n",
       "       [0.79089128, 0.20910872],\n",
       "       [0.10301068, 0.89698932],\n",
       "       [0.78771157, 0.21228843],\n",
       "       [0.86037676, 0.13962324],\n",
       "       [0.74608839, 0.25391161],\n",
       "       [0.73822283, 0.26177717],\n",
       "       [0.63026971, 0.36973029],\n",
       "       [0.8661576 , 0.1338424 ],\n",
       "       [0.77272532, 0.22727468],\n",
       "       [0.77213203, 0.22786797],\n",
       "       [0.81201312, 0.18798688],\n",
       "       [0.8646849 , 0.1353151 ],\n",
       "       [0.62163027, 0.37836973],\n",
       "       [0.81953638, 0.18046362],\n",
       "       [0.83024173, 0.16975827],\n",
       "       [0.56280216, 0.43719784],\n",
       "       [0.76453697, 0.23546303],\n",
       "       [0.07282338, 0.92717662],\n",
       "       [0.88605247, 0.11394753],\n",
       "       [0.74798164, 0.25201836],\n",
       "       [0.59281272, 0.40718728],\n",
       "       [0.7895357 , 0.2104643 ],\n",
       "       [0.85511294, 0.14488706],\n",
       "       [0.36859882, 0.63140118],\n",
       "       [0.52980722, 0.47019278],\n",
       "       [0.85878818, 0.14121182],\n",
       "       [0.82659822, 0.17340178],\n",
       "       [0.72079446, 0.27920554],\n",
       "       [0.07205736, 0.92794264],\n",
       "       [0.63476743, 0.36523257],\n",
       "       [0.73622472, 0.26377528],\n",
       "       [0.79052795, 0.20947205],\n",
       "       [0.86959324, 0.13040676],\n",
       "       [0.83727222, 0.16272778],\n",
       "       [0.87214007, 0.12785993],\n",
       "       [0.09670047, 0.90329953],\n",
       "       [0.75290476, 0.24709524],\n",
       "       [0.73989108, 0.26010892],\n",
       "       [0.88358284, 0.11641716],\n",
       "       [0.00544215, 0.99455785],\n",
       "       [0.83862981, 0.16137019],\n",
       "       [0.86896336, 0.13103664],\n",
       "       [0.82283778, 0.17716222],\n",
       "       [0.84915854, 0.15084146],\n",
       "       [0.84242952, 0.15757048],\n",
       "       [0.13148652, 0.86851348],\n",
       "       [0.21108323, 0.78891677],\n",
       "       [0.85434326, 0.14565674],\n",
       "       [0.19692148, 0.80307852],\n",
       "       [0.7490865 , 0.2509135 ],\n",
       "       [0.28856899, 0.71143101],\n",
       "       [0.86694141, 0.13305859],\n",
       "       [0.83642931, 0.16357069],\n",
       "       [0.84600939, 0.15399061],\n",
       "       [0.71848101, 0.28151899],\n",
       "       [0.82158498, 0.17841502],\n",
       "       [0.46675184, 0.53324816],\n",
       "       [0.79963608, 0.20036392],\n",
       "       [0.07827228, 0.92172772],\n",
       "       [0.78778921, 0.21221079],\n",
       "       [0.84958732, 0.15041268],\n",
       "       [0.81966577, 0.18033423],\n",
       "       [0.56022472, 0.43977528],\n",
       "       [0.19386613, 0.80613387],\n",
       "       [0.29444476, 0.70555524],\n",
       "       [0.82018125, 0.17981875],\n",
       "       [0.32819908, 0.67180092],\n",
       "       [0.58030843, 0.41969157],\n",
       "       [0.52855111, 0.47144889],\n",
       "       [0.77493961, 0.22506039],\n",
       "       [0.83625055, 0.16374945],\n",
       "       [0.7847176 , 0.2152824 ],\n",
       "       [0.82113401, 0.17886599],\n",
       "       [0.84411436, 0.15588564],\n",
       "       [0.05495559, 0.94504441],\n",
       "       [0.15702507, 0.84297493],\n",
       "       [0.11694017, 0.88305983],\n",
       "       [0.85799034, 0.14200966],\n",
       "       [0.78515153, 0.21484847],\n",
       "       [0.52399554, 0.47600446],\n",
       "       [0.46675666, 0.53324334],\n",
       "       [0.88361607, 0.11638393],\n",
       "       [0.00319499, 0.99680501],\n",
       "       [0.88595718, 0.11404282],\n",
       "       [0.01804796, 0.98195204],\n",
       "       [0.86081557, 0.13918443],\n",
       "       [0.80604314, 0.19395686],\n",
       "       [0.4148451 , 0.5851549 ],\n",
       "       [0.83469136, 0.16530864],\n",
       "       [0.15621043, 0.84378957],\n",
       "       [0.8351962 , 0.1648038 ],\n",
       "       [0.84601523, 0.15398477],\n",
       "       [0.05961517, 0.94038483],\n",
       "       [0.01271601, 0.98728399],\n",
       "       [0.8220093 , 0.1779907 ],\n",
       "       [0.10242474, 0.89757526],\n",
       "       [0.63859164, 0.36140836],\n",
       "       [0.8231241 , 0.1768759 ],\n",
       "       [0.7693162 , 0.2306838 ],\n",
       "       [0.80184996, 0.19815004],\n",
       "       [0.61440758, 0.38559242],\n",
       "       [0.82586812, 0.17413188],\n",
       "       [0.63370806, 0.36629194],\n",
       "       [0.80543052, 0.19456948],\n",
       "       [0.59140382, 0.40859618],\n",
       "       [0.85863074, 0.14136926],\n",
       "       [0.64401784, 0.35598216],\n",
       "       [0.7492252 , 0.2507748 ],\n",
       "       [0.5996554 , 0.4003446 ],\n",
       "       [0.80850529, 0.19149471],\n",
       "       [0.76447853, 0.23552147],\n",
       "       [0.73153756, 0.26846244],\n",
       "       [0.7132792 , 0.2867208 ],\n",
       "       [0.73956157, 0.26043843],\n",
       "       [0.27100707, 0.72899293],\n",
       "       [0.62636511, 0.37363489],\n",
       "       [0.5474282 , 0.4525718 ],\n",
       "       [0.8616617 , 0.1383383 ],\n",
       "       [0.56842191, 0.43157809],\n",
       "       [0.22977097, 0.77022903],\n",
       "       [0.77014454, 0.22985546],\n",
       "       [0.85624567, 0.14375433],\n",
       "       [0.25631326, 0.74368674],\n",
       "       [0.77882918, 0.22117082],\n",
       "       [0.335832  , 0.664168  ],\n",
       "       [0.72709538, 0.27290462],\n",
       "       [0.81321366, 0.18678634],\n",
       "       [0.35898206, 0.64101794],\n",
       "       [0.00387601, 0.99612399],\n",
       "       [0.77625755, 0.22374245],\n",
       "       [0.81569245, 0.18430755],\n",
       "       [0.77929873, 0.22070127],\n",
       "       [0.77083624, 0.22916376],\n",
       "       [0.41867647, 0.58132353],\n",
       "       [0.8678067 , 0.1321933 ],\n",
       "       [0.83859627, 0.16140373],\n",
       "       [0.53013425, 0.46986575],\n",
       "       [0.00750893, 0.99249107],\n",
       "       [0.82389594, 0.17610406],\n",
       "       [0.65476404, 0.34523596],\n",
       "       [0.84438822, 0.15561178],\n",
       "       [0.77483286, 0.22516714],\n",
       "       [0.80075368, 0.19924632],\n",
       "       [0.64297948, 0.35702052],\n",
       "       [0.19752796, 0.80247204],\n",
       "       [0.87272812, 0.12727188],\n",
       "       [0.35911395, 0.64088605],\n",
       "       [0.692962  , 0.307038  ],\n",
       "       [0.46692229, 0.53307771],\n",
       "       [0.80921141, 0.19078859],\n",
       "       [0.40752569, 0.59247431],\n",
       "       [0.05774757, 0.94225243],\n",
       "       [0.85794316, 0.14205684],\n",
       "       [0.47974552, 0.52025448],\n",
       "       [0.65055297, 0.34944703],\n",
       "       [0.89692886, 0.10307114],\n",
       "       [0.84979995, 0.15020005],\n",
       "       [0.60541164, 0.39458836],\n",
       "       [0.81552444, 0.18447556],\n",
       "       [0.6201854 , 0.3798146 ],\n",
       "       [0.5       , 0.5       ],\n",
       "       [0.8691216 , 0.1308784 ],\n",
       "       [0.86865445, 0.13134555],\n",
       "       [0.49347185, 0.50652815],\n",
       "       [0.71741537, 0.28258463],\n",
       "       [0.44804121, 0.55195879],\n",
       "       [0.85038471, 0.14961529],\n",
       "       [0.68269079, 0.31730921],\n",
       "       [0.8413416 , 0.1586584 ],\n",
       "       [0.07863413, 0.92136587],\n",
       "       [0.05642954, 0.94357046],\n",
       "       [0.73866227, 0.26133773],\n",
       "       [0.80632246, 0.19367754],\n",
       "       [0.88238923, 0.11761077],\n",
       "       [0.71570341, 0.28429659],\n",
       "       [0.74986238, 0.25013762],\n",
       "       [0.91886689, 0.08113311],\n",
       "       [0.82446086, 0.17553914],\n",
       "       [0.20852977, 0.79147023],\n",
       "       [0.37460766, 0.62539234],\n",
       "       [0.68080295, 0.31919705],\n",
       "       [0.63722658, 0.36277342],\n",
       "       [0.01246854, 0.98753146],\n",
       "       [0.04674067, 0.95325933],\n",
       "       [0.80203606, 0.19796394],\n",
       "       [0.52868654, 0.47131346],\n",
       "       [0.84924124, 0.15075876],\n",
       "       [0.85594622, 0.14405378],\n",
       "       [0.06131338, 0.93868662],\n",
       "       [0.40472474, 0.59527526],\n",
       "       [0.84081688, 0.15918312],\n",
       "       [0.7802364 , 0.2197636 ],\n",
       "       [0.87137114, 0.12862886],\n",
       "       [0.71148269, 0.28851731],\n",
       "       [0.85999661, 0.14000339],\n",
       "       [0.76275404, 0.23724596],\n",
       "       [0.56803113, 0.43196887],\n",
       "       [0.80747405, 0.19252595],\n",
       "       [0.5       , 0.5       ],\n",
       "       [0.76285943, 0.23714057],\n",
       "       [0.72617209, 0.27382791],\n",
       "       [0.01526241, 0.98473759],\n",
       "       [0.30916494, 0.69083506],\n",
       "       [0.82961841, 0.17038159],\n",
       "       [0.87332286, 0.12667714],\n",
       "       [0.8603616 , 0.1396384 ],\n",
       "       [0.77352069, 0.22647931],\n",
       "       [0.66230687, 0.33769313],\n",
       "       [0.49353135, 0.50646865],\n",
       "       [0.3534006 , 0.6465994 ],\n",
       "       [0.56808274, 0.43191726],\n",
       "       [0.85068561, 0.14931439],\n",
       "       [0.81907678, 0.18092322],\n",
       "       [0.79937423, 0.20062577],\n",
       "       [0.86890426, 0.13109574],\n",
       "       [0.61773742, 0.38226258],\n",
       "       [0.66526089, 0.33473911],\n",
       "       [0.78586701, 0.21413299],\n",
       "       [0.89430392, 0.10569608],\n",
       "       [0.72499176, 0.27500824],\n",
       "       [0.25078983, 0.74921017],\n",
       "       [0.30530843, 0.69469157],\n",
       "       [0.73894313, 0.26105687],\n",
       "       [0.87279187, 0.12720813]])"
      ]
     },
     "execution_count": 70,
     "metadata": {},
     "output_type": "execute_result"
    }
   ],
   "source": [
    "probas_poly3 = test_svc_poly3.fit(X_train_minmax_poly3, y_train_poly3).predict_proba(X_test_minmax_poly3)\n",
    "fpr_poly3, tpr_poly3, thresholds_poly3 = roc_curve(y_test_poly3, probas_poly3[:, 1])  # use the probs of (smoke), not of nonsmoking\n",
    "roc_auc_poly3 = auc(fpr_poly3, tpr_poly3)\n",
    "print (\"AUC using predict_proba\", roc_auc_poly3)\n",
    "probas_poly3"
   ]
  },
  {
   "cell_type": "markdown",
   "metadata": {},
   "source": [
    "##### Analysis and Model Selection "
   ]
  },
  {
   "cell_type": "markdown",
   "metadata": {},
   "source": [
    "Of all tested models, the highest precision and accuracy came from the fine tuned min max scaled 3rd degree polynomial kernel. It held an accuracy of 78%, precision of 79%, and an AUC of 83%. "
   ]
  },
  {
   "cell_type": "markdown",
   "metadata": {},
   "source": [
    "##### Summary of SVM results "
   ]
  },
  {
   "cell_type": "markdown",
   "metadata": {},
   "source": [
    "<b>Simple RBF:</b>\n",
    "\n",
    "Accuracy:  79%,\n",
    "\n",
    "Precision: 73%,\n",
    "\n",
    "True Positive Rate: 54%,\n",
    "\n",
    "True Negative Rate: 81%,\n",
    "\n",
    "False Positive Rate: 10%,\n",
    "\n",
    "Misclassification: 21%\n",
    "\n",
    "\n",
    "<b>Min Max Scaled RBF</b>\n",
    "\n",
    "Accuracy:  74%, \n",
    "\n",
    "Precision: 58%, \n",
    "\n",
    "True Positive Rate: 74%, \n",
    "\n",
    "True Negative Rate: 86%, \n",
    "\n",
    "False Positive Rate: 26%,\n",
    "\n",
    "Misclassification: 26%, \n",
    "AUC: 85%\n",
    "\n",
    "<b>Parameter Tuned Min Max Scaled RBF</b>\n",
    "\n",
    "Accuracy:  81%,\n",
    "\n",
    "Precision:  73%,\n",
    "\n",
    "True Positive Rate: 62%, \n",
    "\n",
    "True Negative Rate: 83%, \n",
    "\n",
    "False Positive Rate: 11%,\n",
    "\n",
    "Misclassification: 20%,\n",
    "AUC: 86%\n",
    "\n",
    "\n",
    "\n",
    "<b>Simple Second Degree Polynomial:</b>\n",
    "\n",
    "Accuracy:  76%, \n",
    "\n",
    "Precision: 71%, \n",
    "\n",
    "True Positive Rate: 54%,\n",
    "\n",
    "True Negative Rate: 78%, \n",
    "\n",
    "False Positive Rate: 12%, \n",
    "\n",
    "Misclassification: 24%\n",
    "\n",
    "\n",
    "\n",
    "\n",
    "<b>Min Max Scaled Second Degree Polynomial:</b>\n",
    "\n",
    "Accuracy:  80%, \n",
    "\n",
    "Precision: 68%, \n",
    "\n",
    "True Positive Rate: 78%, \n",
    "\n",
    "True Negative Rate: 87%, \n",
    "\n",
    "False Positive Rate: 19%, \n",
    "\n",
    "Misclassification: 20%\n",
    "AUC: 84%\n",
    "\n",
    "<b>Parameter Tuned Min Max Scaled Second Degree Polynomial:</b>\n",
    "\n",
    "Accuracy:  78%,\n",
    "\n",
    "Precision: 73%, \n",
    "\n",
    "True Positive Rate: 59%,\n",
    "\n",
    "True Negative Rate: 80%,\n",
    "\n",
    "False Positive Rate: 11%, \n",
    "\n",
    "Misclassification: 22%\n",
    "\n",
    "AUC: 84%\n",
    "\n",
    "\n",
    "<b>Simple Third Degree Polynomial:</b>\n",
    "\n",
    "Accuracy:  77%, \n",
    "\n",
    "Precision: 75%, \n",
    "\n",
    "True Positive Rate: 55%, \n",
    "\n",
    "True Negative Rate: 78%, \n",
    "\n",
    "False Positive Rate: 10%, \n",
    "\n",
    "Misclassification: 23%\n",
    "\n",
    "\n",
    "<b>Min Max Scaled Third Degree Polynomial:</b>\n",
    "\n",
    "Accuracy:  76%, \n",
    "\n",
    "Precision: 67%, \n",
    "\n",
    "True Positive Rate: 66%, \n",
    "\n",
    "True Negative Rate: 81%, \n",
    "\n",
    "False Positive Rate: 18%, \n",
    "\n",
    "Misclassification: 24%\n",
    "\n",
    "AUC: 81%\n",
    "\n",
    "<b>Parameter Tuned Min Max Scaled Third Degree Polynomial:</b>\n",
    "\n",
    "Accuracy:  78%, \n",
    "\n",
    "Precision: 79%, \n",
    "\n",
    "True Positive Rate: 54%, \n",
    "\n",
    "True Negative Rate: 78%, \n",
    "\n",
    "False Positive Rate: 8%, \n",
    "\n",
    "Misclassification: 22%\n",
    "\n",
    "AUC: 83%\n",
    " \n",
    "\n"
   ]
  },
  {
   "cell_type": "code",
   "execution_count": null,
   "metadata": {},
   "outputs": [],
   "source": []
  }
 ],
 "metadata": {
  "kernelspec": {
   "display_name": "Python 3",
   "language": "python",
   "name": "python3"
  },
  "language_info": {
   "codemirror_mode": {
    "name": "ipython",
    "version": 3
   },
   "file_extension": ".py",
   "mimetype": "text/x-python",
   "name": "python",
   "nbconvert_exporter": "python",
   "pygments_lexer": "ipython3",
   "version": "3.6.9"
  }
 },
 "nbformat": 4,
 "nbformat_minor": 2
}
